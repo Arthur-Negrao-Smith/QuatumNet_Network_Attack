{
 "cells": [
  {
   "cell_type": "code",
   "execution_count": null,
   "id": "41f8e0d7-a488-40cd-ab69-afdce1114b9d",
   "metadata": {},
   "outputs": [],
   "source": [
    "from simulations_functions import asyncSimulations_Linux\n",
    "# from BHA_functions.datacollector import DataCollector\n",
    "# from BHA_functions.graphic import GraphicGenerator\n",
    "from BHA_functions import GraphicGenerator\n",
    "from datetime import datetime\n",
    "\n",
    "GRAPHIC_POINTS = 3\n",
    "RUNS_PER_POINT = 10\n",
    "CORES = 10\n",
    "\n",
    "datacollectors = []\n",
    "for i in range(0, GRAPHIC_POINTS):\n",
    "    start = datetime.now()\n",
    "    simulations_params = {\n",
    "        'runs':RUNS_PER_POINT,\n",
    "        'topology':'Ba',\n",
    "        'number_nodes':20,\n",
    "        'rows':4,\n",
    "        'columns':3,\n",
    "        'prob_edge_creation':0.1,\n",
    "        'edges_to_attach':3,\n",
    "        'entanglements_replanished':10,\n",
    "        'requests':100,\n",
    "        'attempts_per_request':2,\n",
    "        'network_prob':0.8,\n",
    "        'num_black_holes':2,\n",
    "        'black_hole_prob':0.1,\n",
    "        'black_hole_target':True\n",
    "    }\n",
    "\n",
    "    simulations_dc = asyncSimulations_Linux(cores=CORES, **simulations_params)\n",
    "    datacollectors.append(simulations_dc)\n",
    "    print(f\"As {simulations_params['runs']} simulações finalizaram no tempo de: {datetime.now()-start}\")\n",
    "\n",
    "datacollectors = tuple(datacollectors)\n",
    "\n",
    "graphicGen = GraphicGenerator(datacollectors)\n",
    "graphicGen.add_on_plot('Taxa de Sucesso', 'teste 1', (0.2, 0.1), \"Success Tax\")\n",
    "graphicGen.show_plot('Taxa de Sucesso', \"Taxa de Sucesso\", 'Itensidade', \"Taxa de sucesso\")"
   ]
  },
  {
   "cell_type": "code",
   "execution_count": null,
   "id": "3eadea6d-45b5-4f6a-81d1-a7d8ebd90356",
   "metadata": {},
   "outputs": [],
   "source": []
  }
 ],
 "metadata": {
  "kernelspec": {
   "display_name": "Python 3 (ipykernel)",
   "language": "python",
   "name": "python3"
  },
  "language_info": {
   "codemirror_mode": {
    "name": "ipython",
    "version": 3
   },
   "file_extension": ".py",
   "mimetype": "text/x-python",
   "name": "python",
   "nbconvert_exporter": "python",
   "pygments_lexer": "ipython3",
   "version": "3.12.7"
  }
 },
 "nbformat": 4,
 "nbformat_minor": 5
}
