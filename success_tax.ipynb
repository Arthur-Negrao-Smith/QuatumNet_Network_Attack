{
 "cells": [
  {
   "cell_type": "code",
   "execution_count": null,
   "id": "41f8e0d7-a488-40cd-ab69-afdce1114b9d",
   "metadata": {},
   "outputs": [],
   "source": [
    "from simulations_functions import asyncSimulations_Linux\n",
    "from BHA_functions import GraphicGenerator\n",
    "from datetime import datetime\n",
    "\n",
    "CORES = 4\n",
    "RUNS_PER_POINT = 10\n",
    "\n",
    "TARGET = False\n",
    "GRAPHIC_POINTS = 7\n",
    "NETWORK_PROB = 0.8\n",
    "INTENSITY_VARIATION = 0.1\n",
    "\n",
    "intensity = []\n",
    "for c in range(1, GRAPHIC_POINTS+1):\n",
    "    intensity.append(NETWORK_PROB - c*INTENSITY_VARIATION)\n",
    "\n",
    "datacollectors = []\n",
    "for i in range(0, GRAPHIC_POINTS):\n",
    "    start = datetime.now()\n",
    "    simulations_params = {\n",
    "        'runs':RUNS_PER_POINT,\n",
    "        'topology':'Ba',\n",
    "        'number_nodes':20,\n",
    "        'rows':4,\n",
    "        'columns':3,\n",
    "        'prob_edge_creation':0.1,\n",
    "        'edges_to_attach':3,\n",
    "        'entanglements_replanished':10,\n",
    "        'requests':100,\n",
    "        'attempts_per_request':2,\n",
    "        'network_prob':NETWORK_PROB,\n",
    "        'num_black_holes':2,\n",
    "        'black_hole_prob':intensity[i],\n",
    "        'black_hole_target':TARGET\n",
    "    }\n",
    "    print(intensity[i])\n",
    "\n",
    "    simulations_dc = asyncSimulations_Linux(cores=CORES, **simulations_params)\n",
    "    datacollectors.append(simulations_dc)\n",
    "    print(f\"As {simulations_params['runs']} simulações finalizaram no tempo de: {datetime.now()-start}\")\n",
    "\n",
    "datacollectors = tuple(datacollectors)\n",
    "\n",
    "graphicGen = GraphicGenerator(datacollectors)\n",
    "\n",
    "graphicGen.add_on_plot(\n",
    "    plot_name='Taxa de Sucesso', \n",
    "    plot_label='teste 1', \n",
    "    x_column=(0.1, INTENSITY_VARIATION), \n",
    "    y_column_name=\"Success Tax\", \n",
    "    y_standard_deviation=False)\n",
    "\n",
    "graphicGen.show_plot(\n",
    "    title=\"Diferença na Taxa de Sucesso vs Itensidade do Ataque\",\n",
    "    x_label='Itensidade', \n",
    "    y_label=\"Taxa de sucesso\")"
   ]
  },
  {
   "cell_type": "code",
   "execution_count": null,
   "id": "3eadea6d-45b5-4f6a-81d1-a7d8ebd90356",
   "metadata": {},
   "outputs": [],
   "source": []
  }
 ],
 "metadata": {
  "kernelspec": {
   "display_name": "Python 3 (ipykernel)",
   "language": "python",
   "name": "python3"
  },
  "language_info": {
   "codemirror_mode": {
    "name": "ipython",
    "version": 3
   },
   "file_extension": ".py",
   "mimetype": "text/x-python",
   "name": "python",
   "nbconvert_exporter": "python",
   "pygments_lexer": "ipython3",
   "version": "3.12.7"
  }
 },
 "nbformat": 4,
 "nbformat_minor": 5
}
