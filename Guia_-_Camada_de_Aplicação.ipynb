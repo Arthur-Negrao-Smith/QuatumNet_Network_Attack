{
 "cells": [
  {
   "cell_type": "markdown",
   "metadata": {},
   "source": [
    "\n",
    "\n",
    "# Guia da Camada de Aplicação\n",
    "### IMPORTANDO AS DEPENDÊNCIAS\n",
    "##### O documento tem o objetivo de demostrar o funcionamento da camada de aplicação, além de suas funções e ferramentas."
   ]
  },
  {
   "cell_type": "code",
   "execution_count": 1,
   "metadata": {},
   "outputs": [],
   "source": [
    "from quantumnet.components import Network, Host\n",
    "from quantumnet.objects import Qubit, Logger"
   ]
  },
  {
   "cell_type": "markdown",
   "metadata": {},
   "source": [
    "##### Instanciando a rede, e setando a topologia."
   ]
  },
  {
   "cell_type": "code",
   "execution_count": 2,
   "metadata": {},
   "outputs": [
    {
     "name": "stdout",
     "output_type": "stream",
     "text": [
      "Hosts inicializados\n",
      "Canais inicializados\n",
      "Pares EPRs adicionados\n"
     ]
    },
    {
     "data": {
      "image/png": "[encoded data removed]",
      "text/plain": [
       "<Figure size 640x480 with 1 Axes>"
      ]
     },
     "metadata": {},
     "output_type": "display_data"
    }
   ],
   "source": [
    "rede = Network()\n",
    "rede.set_ready_topology(\"Grade\", 3,3)\n",
    "rede.draw()\n",
    "Logger.activate(Logger)"
   ]
  },
  {
   "cell_type": "markdown",
   "metadata": {},
   "source": [
    "##### Definindo os hosts alice e bob nos nós 1 e 2 respectivamente."
   ]
  },
  {
   "cell_type": "code",
   "execution_count": 3,
   "metadata": {},
   "outputs": [],
   "source": [
    "alice = rede.get_host(3)\n",
    "bob = rede.get_host(8)\n"
   ]
  },
  {
   "cell_type": "markdown",
   "metadata": {},
   "source": [
    "##### Por meio da chamada da função qks_e91_protocol, passando os argumentos do ID de Alice, ID de Bob e o número de chaves que é pedido nessa requisição. Houve a transmissão das chaves. "
   ]
  },
  {
   "cell_type": "code",
   "execution_count": 4,
   "metadata": {},
   "outputs": [
    {
     "name": "stderr",
     "output_type": "stream",
     "text": [
      "2024-11-17 15:06:40,202: Iniciando protocolo E91 com 10 qubits.\n",
      "2024-11-17 15:06:40,205: Timeslot incrementado na função prepare_e91_qubits: 1\n",
      "2024-11-17 15:06:40,207: Qubits preparados com a chave: [0, 1, 1, 0, 1, 0, 1, 0, 0, 0] e bases: [1, 1, 0, 1, 0, 0, 0, 0, 0, 1]\n",
      "2024-11-17 15:06:40,210: Tentativa 1 de transmissão de qubits entre 3 e 8.\n",
      "2024-11-17 15:06:40,212: Timeslot 2: Buscando rota válida entre 3 e 8.\n",
      "2024-11-17 15:06:40,215: Rota válida encontrada: [3, 6, 7, 8]\n",
      "2024-11-17 15:06:40,217: Teletransporte de qubit de 3 para 8 na rota [3, 6, 7, 8] foi bem-sucedido com fidelidade final de 0.6376262004049523.\n",
      "2024-11-17 15:06:40,219: Timeslot 3: Buscando rota válida entre 3 e 8.\n",
      "2024-11-17 15:06:40,221: Rota válida encontrada: [3, 6, 7, 8]\n",
      "2024-11-17 15:06:40,222: Teletransporte de qubit de 3 para 8 na rota [3, 6, 7, 8] foi bem-sucedido com fidelidade final de 0.26166862181798245.\n",
      "2024-11-17 15:06:40,223: Timeslot 4: Buscando rota válida entre 3 e 8.\n",
      "2024-11-17 15:06:40,225: Rota válida encontrada: [3, 6, 7, 8]\n",
      "2024-11-17 15:06:40,228: Teletransporte de qubit de 3 para 8 na rota [3, 6, 7, 8] foi bem-sucedido com fidelidade final de 0.13356583198215646.\n",
      "2024-11-17 15:06:40,229: Timeslot 5: Buscando rota válida entre 3 e 8.\n",
      "2024-11-17 15:06:40,231: Rota válida encontrada: [3, 6, 7, 8]\n",
      "2024-11-17 15:06:40,233: Teletransporte de qubit de 3 para 8 na rota [3, 6, 7, 8] foi bem-sucedido com fidelidade final de 0.2315881515634556.\n",
      "2024-11-17 15:06:40,234: Timeslot 6: Buscando rota válida entre 3 e 8.\n",
      "2024-11-17 15:06:40,236: Rota válida encontrada: [3, 6, 7, 8]\n",
      "2024-11-17 15:06:40,238: Teletransporte de qubit de 3 para 8 na rota [3, 6, 7, 8] foi bem-sucedido com fidelidade final de 0.21745269948344242.\n",
      "2024-11-17 15:06:40,240: Timeslot 7: Buscando rota válida entre 3 e 8.\n",
      "2024-11-17 15:06:40,244: Rota válida encontrada: [3, 6, 7, 8]\n",
      "2024-11-17 15:06:40,246: Teletransporte de qubit de 3 para 8 na rota [3, 6, 7, 8] foi bem-sucedido com fidelidade final de 0.1582930383946067.\n",
      "2024-11-17 15:06:40,248: Timeslot 8: Buscando rota válida entre 3 e 8.\n",
      "2024-11-17 15:06:40,249: Rota válida encontrada: [3, 6, 7, 8]\n",
      "2024-11-17 15:06:40,251: Teletransporte de qubit de 3 para 8 na rota [3, 6, 7, 8] foi bem-sucedido com fidelidade final de 0.1253671134053814.\n",
      "2024-11-17 15:06:40,253: Timeslot 9: Buscando rota válida entre 3 e 8.\n",
      "2024-11-17 15:06:40,255: Rota válida encontrada: [3, 6, 7, 8]\n",
      "2024-11-17 15:06:40,256: Teletransporte de qubit de 3 para 8 na rota [3, 6, 7, 8] foi bem-sucedido com fidelidade final de 0.08367332069259936.\n",
      "2024-11-17 15:06:40,265: Timeslot 10: Buscando rota válida entre 3 e 8.\n",
      "2024-11-17 15:06:40,278: Rota válida encontrada: [3, 6, 7, 8]\n",
      "2024-11-17 15:06:40,283: Teletransporte de qubit de 3 para 8 na rota [3, 6, 7, 8] foi bem-sucedido com fidelidade final de 0.05659814217043797.\n",
      "2024-11-17 15:06:40,285: Timeslot 11: Buscando rota válida entre 3 e 8.\n",
      "2024-11-17 15:06:40,289: Rota válida encontrada: [3, 6, 7, 8]\n",
      "2024-11-17 15:06:40,295: Teletransporte de qubit de 3 para 8 na rota [3, 6, 7, 8] foi bem-sucedido com fidelidade final de 0.0482679886953574.\n",
      "2024-11-17 15:06:40,297: Transmissão e teletransporte de 10 qubits entre 3 e 8 concluídos com sucesso. Timeslot: 11\n",
      "2024-11-17 15:06:40,299: Timeslot incrementado após transmissão: 12\n",
      "2024-11-17 15:06:40,301: Timeslot incrementado na função apply_bases_and_measure_e91: 13\n",
      "2024-11-17 15:06:40,303: Resultados das medições: [1, 0, 1, 0, 1, 0, 1, 0, 0, 1] com bases: [0, 1, 0, 1, 1, 0, 0, 0, 0, 1]\n",
      "2024-11-17 15:06:40,307: Índices comuns: [1, 2, 3, 5, 6, 7, 8, 9]\n",
      "2024-11-17 15:06:40,313: Chaves obtidas até agora: [1, 0, 0, 1, 0]\n",
      "2024-11-17 15:06:40,315: Protocolo E91 bem-sucedido. Chave final compartilhada: [1, 0, 0, 1, 0]\n"
     ]
    },
    {
     "data": {
      "text/plain": [
       "[1, 0, 0, 1, 0]"
      ]
     },
     "execution_count": 4,
     "metadata": {},
     "output_type": "execute_result"
    }
   ],
   "source": [
    "rede.application_layer.run_app(\"QKD_E91\",3,8,5)"
   ]
  },
  {
   "cell_type": "markdown",
   "metadata": {},
   "source": [
    "##### A função get_timeslot apresenta quantos timeslot se passaram durante a execução da camada."
   ]
  },
  {
   "cell_type": "code",
   "execution_count": 5,
   "metadata": {},
   "outputs": [
    {
     "data": {
      "text/plain": [
       "13"
      ]
     },
     "execution_count": 5,
     "metadata": {},
     "output_type": "execute_result"
    }
   ],
   "source": [
    "rede.get_timeslot()"
   ]
  },
  {
   "cell_type": "markdown",
   "metadata": {},
   "source": [
    "##### A função get_total_useds_qubits, será usada para mostrar quantos qubits foram usados na camada de Aplicação."
   ]
  },
  {
   "cell_type": "code",
   "execution_count": 6,
   "metadata": {},
   "outputs": [
    {
     "name": "stderr",
     "output_type": "stream",
     "text": [
      "2024-11-17 15:06:40,469: Qubits usados na camada PhysicalLayer: 0\n",
      "2024-11-17 15:06:40,471: Qubits usados na camada LinkLayer: 0\n",
      "2024-11-17 15:06:40,473: Qubits usados na camada TransportLayer: 10\n",
      "2024-11-17 15:06:40,474: Qubits usados na camada ApplicationLayer: 10\n"
     ]
    },
    {
     "data": {
      "text/plain": [
       "20"
      ]
     },
     "execution_count": 6,
     "metadata": {},
     "output_type": "execute_result"
    }
   ],
   "source": [
    "rede.get_total_useds_qubits()"
   ]
  },
  {
   "cell_type": "markdown",
   "metadata": {},
   "source": [
    "##### No avg_fidelity_on_ltransportlayer, é realizada o cálculo da média da fidelidade dos ERPs criados na camada de Aplicação."
   ]
  },
  {
   "cell_type": "code",
   "execution_count": 7,
   "metadata": {},
   "outputs": [
    {
     "name": "stdout",
     "output_type": "stream",
     "text": [
      "Qubit 0 foi criado no timeslot 0 na camada Physical Layer\n",
      "Qubit 1 foi criado no timeslot 0 na camada Physical Layer\n",
      "Qubit 2 foi criado no timeslot 0 na camada Physical Layer\n",
      "Qubit 3 foi criado no timeslot 0 na camada Physical Layer\n",
      "Qubit 4 foi criado no timeslot 0 na camada Physical Layer\n",
      "Qubit 5 foi criado no timeslot 0 na camada Physical Layer\n",
      "Qubit 6 foi criado no timeslot 0 na camada Physical Layer\n",
      "Qubit 7 foi criado no timeslot 0 na camada Physical Layer\n",
      "Qubit 8 foi criado no timeslot 0 na camada Physical Layer\n",
      "Qubit 9 foi criado no timeslot 0 na camada Physical Layer\n",
      "Qubit 10 foi criado no timeslot 0 na camada Physical Layer\n",
      "Qubit 11 foi criado no timeslot 0 na camada Physical Layer\n",
      "Qubit 12 foi criado no timeslot 0 na camada Physical Layer\n",
      "Qubit 13 foi criado no timeslot 0 na camada Physical Layer\n",
      "Qubit 14 foi criado no timeslot 0 na camada Physical Layer\n",
      "Qubit 15 foi criado no timeslot 0 na camada Physical Layer\n",
      "Qubit 16 foi criado no timeslot 0 na camada Physical Layer\n",
      "Qubit 17 foi criado no timeslot 0 na camada Physical Layer\n",
      "Qubit 18 foi criado no timeslot 0 na camada Physical Layer\n",
      "Qubit 19 foi criado no timeslot 0 na camada Physical Layer\n",
      "Qubit 20 foi criado no timeslot 0 na camada Physical Layer\n",
      "Qubit 21 foi criado no timeslot 0 na camada Physical Layer\n",
      "Qubit 22 foi criado no timeslot 0 na camada Physical Layer\n",
      "Qubit 23 foi criado no timeslot 0 na camada Physical Layer\n",
      "Qubit 24 foi criado no timeslot 0 na camada Physical Layer\n",
      "Qubit 25 foi criado no timeslot 0 na camada Physical Layer\n",
      "Qubit 26 foi criado no timeslot 0 na camada Physical Layer\n",
      "Qubit 27 foi criado no timeslot 0 na camada Physical Layer\n",
      "Qubit 28 foi criado no timeslot 0 na camada Physical Layer\n",
      "Qubit 29 foi criado no timeslot 0 na camada Physical Layer\n",
      "Qubit 30 foi criado no timeslot 0 na camada Physical Layer\n",
      "Qubit 31 foi criado no timeslot 0 na camada Physical Layer\n",
      "Qubit 32 foi criado no timeslot 0 na camada Physical Layer\n",
      "Qubit 33 foi criado no timeslot 0 na camada Physical Layer\n",
      "Qubit 34 foi criado no timeslot 0 na camada Physical Layer\n",
      "Qubit 35 foi criado no timeslot 0 na camada Physical Layer\n",
      "Qubit 36 foi criado no timeslot 0 na camada Physical Layer\n",
      "Qubit 37 foi criado no timeslot 0 na camada Physical Layer\n",
      "Qubit 38 foi criado no timeslot 0 na camada Physical Layer\n",
      "Qubit 39 foi criado no timeslot 0 na camada Physical Layer\n",
      "Qubit 40 foi criado no timeslot 0 na camada Physical Layer\n",
      "Qubit 41 foi criado no timeslot 0 na camada Physical Layer\n",
      "Qubit 42 foi criado no timeslot 0 na camada Physical Layer\n",
      "Qubit 43 foi criado no timeslot 0 na camada Physical Layer\n",
      "Qubit 44 foi criado no timeslot 0 na camada Physical Layer\n",
      "Qubit 45 foi criado no timeslot 0 na camada Physical Layer\n",
      "Qubit 46 foi criado no timeslot 0 na camada Physical Layer\n",
      "Qubit 47 foi criado no timeslot 0 na camada Physical Layer\n",
      "Qubit 48 foi criado no timeslot 0 na camada Physical Layer\n",
      "Qubit 49 foi criado no timeslot 0 na camada Physical Layer\n",
      "Qubit 50 foi criado no timeslot 0 na camada Physical Layer\n",
      "Qubit 51 foi criado no timeslot 0 na camada Physical Layer\n",
      "Qubit 52 foi criado no timeslot 0 na camada Physical Layer\n",
      "Qubit 53 foi criado no timeslot 0 na camada Physical Layer\n",
      "Qubit 54 foi criado no timeslot 0 na camada Physical Layer\n",
      "Qubit 55 foi criado no timeslot 0 na camada Physical Layer\n",
      "Qubit 56 foi criado no timeslot 0 na camada Physical Layer\n",
      "Qubit 57 foi criado no timeslot 0 na camada Physical Layer\n",
      "Qubit 58 foi criado no timeslot 0 na camada Physical Layer\n",
      "Qubit 59 foi criado no timeslot 0 na camada Physical Layer\n",
      "Qubit 60 foi criado no timeslot 0 na camada Physical Layer\n",
      "Qubit 61 foi criado no timeslot 0 na camada Physical Layer\n",
      "Qubit 62 foi criado no timeslot 0 na camada Physical Layer\n",
      "Qubit 63 foi criado no timeslot 0 na camada Physical Layer\n",
      "Qubit 64 foi criado no timeslot 0 na camada Physical Layer\n",
      "Qubit 65 foi criado no timeslot 0 na camada Physical Layer\n",
      "Qubit 66 foi criado no timeslot 0 na camada Physical Layer\n",
      "Qubit 67 foi criado no timeslot 0 na camada Physical Layer\n",
      "Qubit 68 foi criado no timeslot 0 na camada Physical Layer\n",
      "Qubit 69 foi criado no timeslot 0 na camada Physical Layer\n",
      "Qubit 70 foi criado no timeslot 0 na camada Physical Layer\n",
      "Qubit 71 foi criado no timeslot 0 na camada Physical Layer\n",
      "Qubit 72 foi criado no timeslot 0 na camada Physical Layer\n",
      "Qubit 73 foi criado no timeslot 0 na camada Physical Layer\n",
      "Qubit 74 foi criado no timeslot 0 na camada Physical Layer\n",
      "Qubit 75 foi criado no timeslot 0 na camada Physical Layer\n",
      "Qubit 76 foi criado no timeslot 0 na camada Physical Layer\n",
      "Qubit 77 foi criado no timeslot 0 na camada Physical Layer\n",
      "Qubit 78 foi criado no timeslot 0 na camada Physical Layer\n",
      "Qubit 79 foi criado no timeslot 0 na camada Physical Layer\n",
      "Qubit 80 foi criado no timeslot 0 na camada Physical Layer\n",
      "Qubit 81 foi criado no timeslot 0 na camada Physical Layer\n",
      "Qubit 82 foi criado no timeslot 0 na camada Physical Layer\n",
      "Qubit 83 foi criado no timeslot 0 na camada Physical Layer\n",
      "Qubit 84 foi criado no timeslot 0 na camada Physical Layer\n",
      "Qubit 85 foi criado no timeslot 0 na camada Physical Layer\n",
      "Qubit 86 foi criado no timeslot 0 na camada Physical Layer\n",
      "Qubit 87 foi criado no timeslot 0 na camada Physical Layer\n",
      "Qubit 88 foi criado no timeslot 0 na camada Physical Layer\n",
      "Qubit 89 foi criado no timeslot 0 na camada Physical Layer\n"
     ]
    }
   ],
   "source": [
    "rede.display_all_qubit_timeslots()"
   ]
  }
 ],
 "metadata": {
  "kernelspec": {
   "display_name": ".venv",
   "language": "python",
   "name": "python3"
  },
  "language_info": {
   "codemirror_mode": {
    "name": "ipython",
    "version": 3
   },
   "file_extension": ".py",
   "mimetype": "text/x-python",
   "name": "python",
   "nbconvert_exporter": "python",
   "pygments_lexer": "ipython3",
   "version": "3.12.6"
  }
 },
 "nbformat": 4,
 "nbformat_minor": 2
}
