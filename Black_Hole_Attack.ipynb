{
 "cells": [
  {
   "cell_type": "markdown",
   "metadata": {},
   "source": [
    "## Criando o primeiros imports do simulador"
   ]
  },
  {
   "cell_type": "code",
   "execution_count": null,
   "metadata": {},
   "outputs": [],
   "source": [
    "from quantumnet.components import Network, Controller, Host\n",
    "from quantumnet.objects import Logger, Qubit\n",
    "\n",
    "from random import randint, choice"
   ]
  },
  {
   "cell_type": "markdown",
   "metadata": {},
   "source": [
    "## Criando a rede"
   ]
  },
  {
   "cell_type": "code",
   "execution_count": null,
   "metadata": {},
   "outputs": [],
   "source": [
    "def initNetwork(rows: int, columns: int, log: bool=True) -> tuple[Network, Controller]:\n",
    "    \"\"\"\n",
    "    Will initiate the network and will define the controller\n",
    "\n",
    "    Args:\n",
    "        log: If True will activate logs od simulation  \n",
    "\n",
    "    Returns:\n",
    "        Will return the Network and the Controller\n",
    "    \"\"\"\n",
    "    # Defining the network\n",
    "    network = Network()\n",
    "\n",
    "    # Defining the Controller\n",
    "    controller = Controller(network)\n",
    "\n",
    "    # Defining the topology\n",
    "    network.set_ready_topology('Grade', rows, columns)\n",
    "\n",
    "    # Draw Nodes\n",
    "    network.draw()\n",
    "\n",
    "    # Log of simulator\n",
    "    if log:\n",
    "        Logger.activate(Logger)\n",
    "        \n",
    "    return network, controller\n"
   ]
  },
  {
   "cell_type": "markdown",
   "metadata": {},
   "source": [
    "## Escolhendo os nós de Alice, de Bob e do Atacante"
   ]
  },
  {
   "cell_type": "code",
   "execution_count": null,
   "metadata": {},
   "outputs": [],
   "source": [
    "def selectNodes(network: Network) -> tuple[Host, Host, Host]:\n",
    "    \"\"\"\n",
    "    Will define the nodes: Alice, Bob and Black_Hole\n",
    "\n",
    "    Args:\n",
    "        network: network to wich the nodes belong\n",
    "\n",
    "    Returns:\n",
    "        Hosts: Will return respectively: Alice host, Bob host, Black_Hole host\n",
    "    \"\"\"\n",
    "    alice_id = randint(0, len(network.hosts)-1)\n",
    "    alice = network.get_host(alice_id)\n",
    "    print(f\"O id de Alice é: {alice}\")\n",
    "\n",
    "    valid = False\n",
    "    while not valid:\n",
    "        bob_id = randint(0, len(network.hosts)-1)\n",
    "        if bob_id != alice_id:\n",
    "            valid = True\n",
    "\n",
    "    bob = network.get_host(bob_id)\n",
    "    print(f\"O id de Bob é: {bob}\")\n",
    "\n",
    "    valid = False\n",
    "    while not valid:\n",
    "        black_hole_id = randint(0, len(network.hosts)-1)\n",
    "        if black_hole_id != alice_id and black_hole_id != bob_id:\n",
    "            valid = True\n",
    "\n",
    "    black_hole = network.get_host(black_hole_id)\n",
    "    print(f\"O id do atacante é: {black_hole}\")\n",
    "    \n",
    "    return alice, bob, black_hole\n"
   ]
  },
  {
   "cell_type": "markdown",
   "metadata": {},
   "source": [
    "## Passando as rotas para o controlador"
   ]
  },
  {
   "cell_type": "code",
   "execution_count": null,
   "metadata": {},
   "outputs": [],
   "source": [
    "def getRoute(network: Network, controller: Controller, alice: Host, alice_id: int, bob: Host, bob_id: int) -> list:\n",
    "    \"\"\"\n",
    "    Will define the route of Alice to Bob\n",
    "\n",
    "    Args:\n",
    "        network: Network to wich the nodes belong\n",
    "        controller: Controller of Network\n",
    "        alice: Sender host\n",
    "        alice_id: Sender host number\n",
    "        bob: Receiver host\n",
    "        bob_id: Receiver host number\n",
    "\n",
    "    Returns:\n",
    "        Dict: Dict with the rotes of Alice to Bob\n",
    "    \"\"\"\n",
    "    # Geting the all routing table\n",
    "    controller.register_routing_tables()\n",
    "\n",
    "    # Defining the route of Alice to Bob\n",
    "    route = network.get_host(alice_id).routing_table[bob_id]\n",
    "    print(f\"Alice: {alice} deseja se comunicar com Bob: {bob} pela rota {route}\")\n",
    "    \n",
    "    return route"
   ]
  },
  {
   "cell_type": "markdown",
   "metadata": {},
   "source": [
    "## Modificando manualmente a probabilidade do Black_Hole"
   ]
  },
  {
   "cell_type": "code",
   "execution_count": null,
   "metadata": {},
   "outputs": [],
   "source": [
    "def setNetworkSwappProb(network: Network, number_nodes: int, network_prob: float,  malicious_host: Host, malicious_host_prob: float) -> None:\n",
    "    for host_id in range(0, number_nodes):\n",
    "        temp_host = network.get_host(host_id=host_id)\n",
    "        if temp_host == malicious_host:\n",
    "            temp_host.setEntanglementSwappingProb(malicious_host_prob)\n",
    "        else:\n",
    "            temp_host.setEntanglementSwappingProb(network_prob)\n"
   ]
  },
  {
   "cell_type": "markdown",
   "metadata": {},
   "source": [
    "## Criação manual de entanglement entre os nós"
   ]
  },
  {
   "cell_type": "code",
   "execution_count": null,
   "metadata": {},
   "outputs": [],
   "source": [
    "def addQubits(host_A: Host, host_B: Host, counter: int) -> int:\n",
    "    temp_qubit_counter = counter\n",
    "    qubit = Qubit(temp_qubit_counter)\n",
    "    host_A.add_qubit(qubit)\n",
    "    qubit = Qubit(temp_qubit_counter+1)\n",
    "    host_B.add_qubit(qubit)\n",
    "    temp_qubit_counter += 2\n",
    "\n",
    "    return temp_qubit_counter\n",
    "    \n",
    "# Creating entanglement between neighbors hosts\n",
    "def createEntanglements(route: list, network: Network, number_of_entanglements: int) -> None:\n",
    "    \"\"\"\n",
    "    Create entangled pair between the hosts of route\n",
    "\n",
    "    Args:\n",
    "        route: Dict with the route of Alice to Bob\n",
    "        network: Network to wich the nodes belong\n",
    "        number_of_entanglements: Number of desired pairs\n",
    "    \"\"\"\n",
    "    # Used qubits\n",
    "    qubit_counter = 0\n",
    "\n",
    "    # Loop to create new entanglements\n",
    "    for entanglement in range(0, number_of_entanglements):\n",
    "        \n",
    "        # Save the qubit index to create new qubits\n",
    "        temp_qubit_counter = qubit_counter\n",
    "\n",
    "        # Create new entanglement to every host in the route\n",
    "        for host_number in range(0, len(route)):\n",
    "            if host_number != len(route) - 1:\n",
    "                host_A = network.get_host(route[host_number])\n",
    "                host_B = network.get_host(route[host_number+1])\n",
    "\n",
    "                # Will trying until entangled be successfully created\n",
    "                entangled = False\n",
    "                while not entangled:\n",
    "\n",
    "                    # If dont't have qubit on memory will add\n",
    "                    if host_A.memory == [] or host_B.memory == []:\n",
    "                        temp_qubit_counter = addQubits(host_A=host_A, host_B=host_B, counter=temp_qubit_counter)\n",
    "                    print(f\"Tentativa de entanglement entre {host_A} e {host_B}\")\n",
    "\n",
    "                    # Trying do entanglement between host_A and host_B\n",
    "                    entangled = network.physical.entanglement_creation_heralding_protocol(host_A, host_B)\n",
    "\n",
    "                    if not entangled:\n",
    "                        temp_qubit_counter = addQubits(host_A=host_A, host_B=host_B, counter=temp_qubit_counter)\n",
    "                        \n",
    "        # Update counter to qubit index\n",
    "        qubit_counter += temp_qubit_counter\n",
    "\n",
    "    print(f\"Foram criados {qubit_counter} qubits a mais para a realização dos {entanglement+1} entanglements\")"
   ]
  },
  {
   "cell_type": "markdown",
   "metadata": {},
   "source": [
    "## Tentativa de Entanglement Swapping entre Alice e Bob"
   ]
  },
  {
   "cell_type": "code",
   "execution_count": null,
   "metadata": {},
   "outputs": [],
   "source": [
    "def EntanglementSwapping(network: Network, alice_id: int, bob_id: int) -> bool:\n",
    "    \"\"\"\n",
    "    Will try do Entanglement Swapping between Alice and Bob as long as there are pairs\n",
    "\n",
    "    Args:\n",
    "        network: Network to wich the nodes belong\n",
    "        alice_id: Number of Alice host\n",
    "        bob_id: Number of Bob host\n",
    "    \"\"\"\n",
    "    entangled = 0\n",
    "    while entangled == 0:\n",
    "        # Trying entanglement swapping between Alice and Bob\n",
    "        entangled = network.networklayer.entanglement_swapping(alice_id, bob_id)\n",
    "\n",
    "    # Signaling that the application is finished to controller\n",
    "    network.get_host(alice_id).announce_to_controller_app_has_finished()\n",
    "\n",
    "    if entangled == -1:\n",
    "        print(\"É impossível realizar o entanglement\")\n",
    "        return False\n",
    "    \n",
    "    return True"
   ]
  },
  {
   "cell_type": "markdown",
   "metadata": {},
   "source": [
    "## Criando a simulação"
   ]
  },
  {
   "cell_type": "code",
   "execution_count": null,
   "metadata": {},
   "outputs": [],
   "source": [
    "def run(runTimes: int, log: bool, rows: int, columns: int, create_new_entanglements: int = 0, network_prob: float = None, black_hole_prob: int = None) -> dict:\n",
    "    \"\"\"\n",
    "    Run the simulation with the desired parameters\n",
    "\n",
    "    Args:\n",
    "        runTimes: Number of times of simulation will run\n",
    "        log: Will show the simulator logs\n",
    "        create_new_entanglements: Number of entangled pair will create\n",
    "        black_hole_fidelity: Fidelity desired to attack\n",
    "\n",
    "    Returns:\n",
    "        Dict: Return every pairs information of run on simulation\n",
    "    \"\"\"\n",
    "    data = {}\n",
    "    for run in range(0, runTimes):\n",
    "        # Create network and controller\n",
    "        network, controller = initNetwork(rows=rows, columns=columns, log=log)\n",
    "\n",
    "        # Defining the nodes\n",
    "        alice, bob, black_hole = selectNodes(network=network)\n",
    "        alice_id = alice.host_id\n",
    "        bob_id = bob.host_id\n",
    "\n",
    "        # Defining route\n",
    "        route = getRoute(network=network, controller=controller, alice=alice, alice_id=alice_id, bob=bob, bob_id=bob_id)\n",
    "        controller.announce_to_route_nodes(route)\n",
    "        controller.announce_to_alice_and_bob(route)\n",
    "\n",
    "        print(f\"Essa é a rota: {route}\")\n",
    "\n",
    "        possible_black_hole = route.copy()\n",
    "        possible_black_hole.pop()\n",
    "        if len(possible_black_hole) > 0:\n",
    "            possible_black_hole.pop(0)\n",
    "        print(\"Possível lista do black hole\", possible_black_hole)\n",
    "        if len(possible_black_hole) > 0:\n",
    "            black_hole = network.get_host(choice(possible_black_hole)) \n",
    "            print(f\"Esse é o Black Hole: {black_hole.host_id}\")\n",
    "            black_hole._prob_entanglement_swapping = black_hole_prob\n",
    "        else:\n",
    "            print(\"Sem a presença de um Black Hole\")\n",
    "\n",
    "\n",
    "        if black_hole_prob is not None:\n",
    "            setNetworkSwappProb(network=network, number_nodes=rows*columns, network_prob=network_prob, malicious_host=black_hole, malicious_host_prob=black_hole_prob)\n",
    "\n",
    "\n",
    "        # Will create entanglements between Alice and Bob\n",
    "        if create_new_entanglements > 0:\n",
    "            createEntanglements(route=route, network=network, number_of_entanglements=create_new_entanglements)\n",
    "\n",
    "        # Do entanglement swapping between ALice and Bob\n",
    "        entangled = EntanglementSwapping(network=network, alice_id=alice_id, bob_id=bob_id)\n",
    "\n",
    "        # Collect data for the simulation run\n",
    "        used_eprs = network.get_total_useds_eprs()\n",
    "        total_eprs = network.get_eprs()\n",
    "        number_of_eprs = {}\n",
    "        for key in total_eprs:\n",
    "            number_of_eprs[key] = len(total_eprs[key])\n",
    "        data[f'run: {run}'] = {\"Entrelaçado\": entangled, \"Alice & Bob\": (alice_id, bob_id), 'Eprs usados': used_eprs, \"Eprs criados\": create_new_entanglements, 'Total Eprs': number_of_eprs}\n",
    "    \n",
    "    return data"
   ]
  },
  {
   "cell_type": "markdown",
   "metadata": {},
   "source": [
    "## Rodando a simulação e coletando os dados"
   ]
  },
  {
   "cell_type": "code",
   "execution_count": null,
   "metadata": {},
   "outputs": [],
   "source": [
    "data = run(runTimes=100, rows=4, columns=3, log=True, create_new_entanglements=0, black_hole_prob=0.9, network_prob=0.9)"
   ]
  },
  {
   "cell_type": "markdown",
   "metadata": {},
   "source": [
    "## Mostrando os dados coletados"
   ]
  },
  {
   "cell_type": "code",
   "execution_count": null,
   "metadata": {},
   "outputs": [],
   "source": [
    "data"
   ]
  },
  {
   "cell_type": "markdown",
   "metadata": {},
   "source": [
    "## Taxa de Sucesso"
   ]
  },
  {
   "cell_type": "code",
   "execution_count": null,
   "metadata": {},
   "outputs": [],
   "source": [
    "success = 0\n",
    "for run in data:\n",
    "    if data[run]['Entrelaçado']:\n",
    "        success += 1\n",
    "tax = success/len(data.keys()) * 100\n",
    "print(f'{tax}%')"
   ]
  }
 ],
 "metadata": {
  "kernelspec": {
   "display_name": ".venv",
   "language": "python",
   "name": "python3"
  },
  "language_info": {
   "codemirror_mode": {
    "name": "ipython",
    "version": 3
   },
   "file_extension": ".py",
   "mimetype": "text/x-python",
   "name": "python",
   "nbconvert_exporter": "python",
   "pygments_lexer": "ipython3",
   "version": "3.12.3"
  }
 },
 "nbformat": 4,
 "nbformat_minor": 2
}
