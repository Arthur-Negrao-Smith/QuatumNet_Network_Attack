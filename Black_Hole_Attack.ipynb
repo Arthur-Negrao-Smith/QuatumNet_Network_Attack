{
 "cells": [
  {
   "cell_type": "markdown",
   "metadata": {},
   "source": [
    "## Criando o primeiros imports do simulador"
   ]
  },
  {
   "cell_type": "code",
   "execution_count": null,
   "metadata": {},
   "outputs": [],
   "source": [
    "from quantumnet.components import Network, Controller, Host\n",
    "from quantumnet.objects import Logger, Qubit\n",
    "\n",
    "from random import randint, choice\n",
    "from copy import copy"
   ]
  },
  {
   "cell_type": "markdown",
   "metadata": {},
   "source": [
    "## Criando a rede"
   ]
  },
  {
   "cell_type": "code",
   "execution_count": null,
   "metadata": {},
   "outputs": [],
   "source": [
    "def initNetwork(rows: int, columns: int, log: bool=True) -> tuple[Network, Controller]:\n",
    "    \"\"\"\n",
    "    Will initiate the network and will define the controller\n",
    "\n",
    "    Args:\n",
    "        rows: Number of rows of host in the network\n",
    "        columns: Number of columns of host in the network\n",
    "        log: If True will activate logs od simulation  \n",
    "\n",
    "    Returns:\n",
    "        Will return the Network and the Controller\n",
    "    \"\"\"\n",
    "    # Defining the network\n",
    "    network = Network()\n",
    "\n",
    "    # Defining the Controller\n",
    "    controller = Controller(network)\n",
    "\n",
    "    # Defining the topology\n",
    "    network.set_ready_topology('Grade', rows, columns)\n",
    "\n",
    "    # Draw Nodes\n",
    "    network.draw()\n",
    "\n",
    "    # Log of simulator\n",
    "    if log:\n",
    "        Logger.activate(Logger)\n",
    "        \n",
    "    return network, controller\n"
   ]
  },
  {
   "cell_type": "markdown",
   "metadata": {},
   "source": [
    "## Escolhendo os nós do Black Hole"
   ]
  },
  {
   "cell_type": "code",
   "execution_count": null,
   "metadata": {},
   "outputs": [],
   "source": [
    "def selectBlackHoles(network: Network, num_black_holes: int) -> list:\n",
    "    \"\"\"\n",
    "    Randomly choose Black Holes\n",
    "\n",
    "    Args:\n",
    "        num_black_holes: Number of Black Holes\n",
    "\n",
    "    Returns:\n",
    "        Black Holes: List with all Black Holes\n",
    "    \"\"\"\n",
    "    all_hosts = copy(network.get_all_sorted_hosts())\n",
    "    black_hole_list = []\n",
    "    if num_black_holes > 0 and num_black_holes < len(all_hosts):\n",
    "        for host in range(0, num_black_holes):\n",
    "            black_hole = choice(all_hosts)\n",
    "            black_hole_list.append(black_hole)\n",
    "            all_hosts.pop(black_hole.host_id)\n",
    "\n",
    "    print(f\"Lista de Black Holes: [ \", end='')\n",
    "    for host in black_hole_list:\n",
    "        print(f\"{host.host_id} \", end='')\n",
    "    print(']')\n",
    "\n",
    "    return black_hole_list"
   ]
  },
  {
   "cell_type": "markdown",
   "metadata": {},
   "source": [
    "## Escolhendo os nós de Alice e de Bob"
   ]
  },
  {
   "cell_type": "code",
   "execution_count": null,
   "metadata": {},
   "outputs": [],
   "source": [
    "def selectAliceBob(network: Network, black_hole_list: list) -> tuple[Host, Host]:\n",
    "    \"\"\"\n",
    "    Will define the nodes: Alice, Bob\n",
    "\n",
    "    Args:\n",
    "        network: Network to wich the nodes belong\n",
    "        black_hole_list: List with all Black Holes\n",
    "\n",
    "    Returns:\n",
    "        Hosts: Will return respectively: Alice host, Bob host\n",
    "    \"\"\"\n",
    "    valid = False\n",
    "    while not valid:\n",
    "        alice_id = randint(0, len(network.hosts)-1)\n",
    "        alice = network.get_host(alice_id)\n",
    "        if alice not in black_hole_list:\n",
    "            valid = True\n",
    "    print(f\"O id de Alice é: {alice}\")\n",
    "\n",
    "    valid = False\n",
    "    while not valid:\n",
    "        bob_id = randint(0, len(network.hosts)-1)\n",
    "        bob = network.get_host(bob_id)\n",
    "        if bob_id != alice_id and bob not in black_hole_list:\n",
    "            valid = True\n",
    "    print(f\"O id de Bob é: {bob}\")\n",
    "\n",
    "\n",
    "    return alice, bob\n"
   ]
  },
  {
   "cell_type": "markdown",
   "metadata": {},
   "source": [
    "## Passando as rotas para o controlador"
   ]
  },
  {
   "cell_type": "code",
   "execution_count": null,
   "metadata": {},
   "outputs": [],
   "source": [
    "def getRoute(network: Network, controller: Controller, alice: Host, \n",
    "             alice_id: int, bob: Host, bob_id: int) -> list:\n",
    "    \"\"\"\n",
    "    Will define the route of Alice to Bob\n",
    "\n",
    "    Args:\n",
    "        network: Network to wich the nodes belong\n",
    "        controller: Controller of Network\n",
    "        alice: Sender host\n",
    "        alice_id: Sender host number\n",
    "        bob: Receiver host\n",
    "        bob_id: Receiver host number\n",
    "\n",
    "    Returns:\n",
    "        Route: List with the rotes of Alice to Bob\n",
    "    \"\"\"\n",
    "    # Geting the all routing table\n",
    "    controller.register_routing_tables()\n",
    "\n",
    "    # Defining the route of Alice to Bob\n",
    "    route = network.get_host(alice_id).routing_table[bob_id]\n",
    "    print(f\"Alice: {alice} deseja se comunicar com Bob: {bob} pela rota {route}\")\n",
    "    \n",
    "    return route"
   ]
  },
  {
   "cell_type": "markdown",
   "metadata": {},
   "source": [
    "## Modificando manualmente a probabilidade do Black_Hole"
   ]
  },
  {
   "cell_type": "code",
   "execution_count": null,
   "metadata": {},
   "outputs": [],
   "source": [
    "def setNetworkSwappProb(network: Network, number_nodes: int, network_prob: float,  \n",
    "                        malicious_host: Host, malicious_host_prob: float) -> None:\n",
    "    \"\"\"\n",
    "    Will set network's probability of success of entanglement swapping\n",
    "\n",
    "    Args:\n",
    "        network: Network to wich the nodes belong\n",
    "        number_nodes: Number of nodes in the network\n",
    "        network_prob: Network's entanglement swapping probability\n",
    "        malicious_host: Host which will attack the network\n",
    "        malicious_host_prob: Malicious host probability\n",
    "    \"\"\"\n",
    "    for host_id in range(0, number_nodes):\n",
    "        temp_host = network.get_host(host_id=host_id)\n",
    "\n",
    "        if temp_host == malicious_host:\n",
    "            temp_host.setEntanglementSwappingProb(malicious_host_prob)\n",
    "        else:\n",
    "            temp_host.setEntanglementSwappingProb(network_prob)\n"
   ]
  },
  {
   "cell_type": "markdown",
   "metadata": {},
   "source": [
    "## Criação manual de entanglement entre os nós"
   ]
  },
  {
   "cell_type": "code",
   "execution_count": null,
   "metadata": {},
   "outputs": [],
   "source": [
    "def addQubits(host_A: Host, host_B: Host, counter: int) -> int:\n",
    "    \"\"\"\n",
    "    Will add qubits to both hosts\n",
    "\n",
    "    Args:\n",
    "        host_A: Host that wants to add the qubit\n",
    "        host_B: Host that wants to add the qubit\n",
    "        counter: Counter to index qubits\n",
    "\n",
    "    Returns:\n",
    "        Counter: Return updated counter\n",
    "    \"\"\"\n",
    "    temp_qubit_counter = counter\n",
    "    \n",
    "    qubit = Qubit(temp_qubit_counter)\n",
    "    host_A.add_qubit(qubit)\n",
    "\n",
    "    qubit = Qubit(temp_qubit_counter+1)\n",
    "    host_B.add_qubit(qubit)\n",
    "\n",
    "    temp_qubit_counter += 2\n",
    "\n",
    "    return temp_qubit_counter\n",
    "    \n",
    "# Creating entanglement between neighbors hosts\n",
    "def createEntanglements(route: list, network: Network, number_of_entanglements: int) -> None:\n",
    "    \"\"\"\n",
    "    Create entangleds pairs between the hosts of route\n",
    "\n",
    "    Args:\n",
    "        route: List with the route of Alice to Bob\n",
    "        network: Network to wich the nodes belong\n",
    "        number_of_entanglements: Number of desired pairs\n",
    "    \"\"\"\n",
    "    # Used qubits\n",
    "    qubit_counter = 0\n",
    "\n",
    "    # Loop to create new entanglements\n",
    "    for entanglement in range(0, number_of_entanglements):\n",
    "        \n",
    "        # Save the qubit index to create new qubits\n",
    "        temp_qubit_counter = qubit_counter\n",
    "\n",
    "        # Create new entanglement to every host in the route\n",
    "        for host_number in range(0, len(route)):\n",
    "            if host_number != len(route) - 1:\n",
    "                host_A = network.get_host(route[host_number])\n",
    "                host_B = network.get_host(route[host_number+1])\n",
    "\n",
    "                # Will trying until entangled be successfully created\n",
    "                entangled = False\n",
    "                while not entangled:\n",
    "\n",
    "                    # If dont't have qubit on memory will add\n",
    "                    if host_A.memory == [] or host_B.memory == []:\n",
    "                        temp_qubit_counter = addQubits(host_A=host_A, host_B=host_B, counter=temp_qubit_counter)\n",
    "                    print(f\"Tentativa de entanglement entre {host_A} e {host_B}\")\n",
    "\n",
    "                    # Trying do entanglement between host_A and host_B\n",
    "                    entangled = network.physical.entanglement_creation_heralding_protocol(host_A, host_B)\n",
    "\n",
    "                    if not entangled:\n",
    "                        temp_qubit_counter = addQubits(host_A=host_A, host_B=host_B, counter=temp_qubit_counter)\n",
    "                        \n",
    "        # Update counter to qubit index\n",
    "        qubit_counter += temp_qubit_counter\n",
    "\n",
    "    print(f\"Foram criados {qubit_counter} qubits a mais para a realização dos {entanglement+1} entanglements\")"
   ]
  },
  {
   "cell_type": "markdown",
   "metadata": {},
   "source": [
    "## Tentativa de Entanglement Swapping entre Alice e Bob"
   ]
  },
  {
   "cell_type": "code",
   "execution_count": null,
   "metadata": {},
   "outputs": [],
   "source": [
    "def EntanglementSwapping(network: Network, alice_id: int, bob_id: int) -> bool:\n",
    "    \"\"\"\n",
    "    Will try do Entanglement Swapping between Alice and Bob as long as there are pairs\n",
    "\n",
    "    Args:\n",
    "        network: Network to wich the nodes belong\n",
    "        alice_id: Alice's id\n",
    "        bob_id: Bob's id\n",
    "    \"\"\"\n",
    "    entangled = 0\n",
    "    while entangled == 0:\n",
    "        # Trying entanglement swapping between Alice and Bob\n",
    "        entangled = network.networklayer.entanglement_swapping(alice_id, bob_id)\n",
    "\n",
    "    # Signaling that the application is finished to controller\n",
    "    network.get_host(alice_id).announce_to_controller_app_has_finished()\n",
    "\n",
    "    # If there is no possibility of performing an entanglement swapping\n",
    "    if entangled == -1:\n",
    "        print(\"É impossível realizar o entanglement\")\n",
    "        return False\n",
    "    \n",
    "    return True"
   ]
  },
  {
   "cell_type": "markdown",
   "metadata": {},
   "source": [
    "## Criando a simulação"
   ]
  },
  {
   "cell_type": "code",
   "execution_count": null,
   "metadata": {},
   "outputs": [],
   "source": [
    "def run(runTimes: int, log: bool, rows: int, columns: int, create_new_entanglements: int = 0, \n",
    "        network_prob: float = None, num_black_holes: int = 1, black_hole_prob: int = None) -> dict:\n",
    "    \"\"\"\n",
    "    Run the simulation with the desired parameters\n",
    "\n",
    "    Args:\n",
    "        runTimes: Number of times of simulation will run\n",
    "        log: Will show the simulator logs\n",
    "        rows: Number of rows of host in the network\n",
    "        columns: Number of columns of host in the network \n",
    "        create_new_entanglements: Number of entangled pair will create\n",
    "        network_prob: Network's entanglement swapping probability\n",
    "        black_hole_prob: Malicious host probability\n",
    "\n",
    "    Returns:\n",
    "        Dict: Return every information of run on simulation\n",
    "    \"\"\"\n",
    "    data = {}\n",
    "    for run in range(0, runTimes):\n",
    "        # Create network and controller\n",
    "        network, controller = initNetwork(rows=rows, columns=columns, log=log)\n",
    "\n",
    "        # Select Black Hole list\n",
    "        black_hole_list = selectBlackHoles(network=network, num_black_holes=num_black_holes)\n",
    "\n",
    "        # Defining the nodes\n",
    "        alice, bob = selectAliceBob(network=network)\n",
    "        alice_id = alice.host_id\n",
    "        bob_id = bob.host_id\n",
    "\n",
    "        # Defining route\n",
    "        route = getRoute(network=network, controller=controller, alice=alice, alice_id=alice_id, bob=bob, bob_id=bob_id)\n",
    "        initial_route = route.copy()\n",
    "        controller.announce_to_route_nodes(route)\n",
    "        controller.announce_to_alice_and_bob(route)\n",
    "        print(f\"Essa é a rota: {route}\")\n",
    "\n",
    "        # Set the network probability and Black Holes prob\n",
    "        setNetworkSwappProb(network=network, number_nodes=rows*columns, network_prob=network_prob, \n",
    "                            malicious_host=black_hole, malicious_host_prob=black_hole_prob)\n",
    "\n",
    "\n",
    "        # Will create entanglements between Alice and Bob\n",
    "        if create_new_entanglements > 0:\n",
    "            createEntanglements(route=route, network=network, number_of_entanglements=create_new_entanglements)\n",
    "\n",
    "        # Do entanglement swapping between ALice and Bob\n",
    "        entangled = EntanglementSwapping(network=network, alice_id=alice_id, bob_id=bob_id)\n",
    "\n",
    "        # Collect data for the simulation run\n",
    "        used_eprs = network.get_total_useds_eprs()\n",
    "        total_eprs = network.get_eprs()\n",
    "        number_of_eprs = {}\n",
    "        for key in total_eprs:\n",
    "            number_of_eprs[key] = len(total_eprs[key])\n",
    "        data[f'run: {run}'] = {\"Entrelaçado\": entangled, \"Alice & Bob\": (alice_id, bob_id), \"Black Hole\":black_hole_id, \n",
    "                               \"Rota inicial\":initial_route, 'Eprs usados': used_eprs, \n",
    "                               \"Eprs criados\": create_new_entanglements, 'Total Eprs': number_of_eprs}\n",
    "    \n",
    "    return data"
   ]
  },
  {
   "cell_type": "markdown",
   "metadata": {},
   "source": [
    "## Rodando a simulação e coletando os dados"
   ]
  },
  {
   "cell_type": "code",
   "execution_count": null,
   "metadata": {
    "scrolled": true
   },
   "outputs": [],
   "source": [
    "data = run(runTimes=100, \n",
    "        rows=4, \n",
    "        columns=3, \n",
    "        log=True, \n",
    "        create_new_entanglements=0, \n",
    "        num_black_holes=1, \n",
    "        black_hole_prob=0.1, \n",
    "        network_prob=0.8)"
   ]
  },
  {
   "cell_type": "markdown",
   "metadata": {},
   "source": [
    "## Mostrando os dados coletados"
   ]
  },
  {
   "cell_type": "code",
   "execution_count": null,
   "metadata": {},
   "outputs": [],
   "source": [
    "data"
   ]
  },
  {
   "cell_type": "markdown",
   "metadata": {},
   "source": [
    "## Taxa de Sucesso"
   ]
  },
  {
   "cell_type": "code",
   "execution_count": null,
   "metadata": {},
   "outputs": [],
   "source": [
    "success = 0\n",
    "eprs = 0\n",
    "for run in data:\n",
    "    if data[run]['Entrelaçado']:\n",
    "        success += 1\n",
    "    eprs += data[run]['Eprs usados']\n",
    "success_tax = success/len(data.keys()) * 100\n",
    "avg_used_eprs = eprs/len(data.keys())\n",
    "print(f'Taxa de sucesso foi de {success_tax}%')\n",
    "print(f\"A quantidade média de eprs usados foi de: {avg_used_eprs} e foram usados no total {eprs} em {len(data.keys())} execuções\")"
   ]
  }
 ],
 "metadata": {
  "kernelspec": {
   "display_name": "Python 3 (ipykernel)",
   "language": "python",
   "name": "python3"
  },
  "language_info": {
   "codemirror_mode": {
    "name": "ipython",
    "version": 3
   },
   "file_extension": ".py",
   "mimetype": "text/x-python",
   "name": "python",
   "nbconvert_exporter": "python",
   "pygments_lexer": "ipython3",
   "version": "3.12.7"
  }
 },
 "nbformat": 4,
 "nbformat_minor": 4
}
