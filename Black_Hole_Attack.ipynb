{
 "cells": [
  {
   "cell_type": "markdown",
   "metadata": {},
   "source": [
    "## Criando o primeiros imports do simulador"
   ]
  },
  {
   "cell_type": "code",
   "execution_count": null,
   "metadata": {},
   "outputs": [],
   "source": [
    "from quantumnet.components import Network, Controller, Host\n",
    "from quantumnet.objects import Logger, Qubit\n",
    "\n",
    "from random import randint, choice\n",
    "from copy import copy"
   ]
  },
  {
   "cell_type": "markdown",
   "metadata": {},
   "source": [
    "## Criando a rede"
   ]
  },
  {
   "cell_type": "code",
   "execution_count": null,
   "metadata": {},
   "outputs": [],
   "source": [
    "def initNetwork(rows: int, \n",
    "                columns: int, \n",
    "                log: bool=True) -> tuple[Network, Controller]:\n",
    "    \"\"\"\n",
    "    Will initiate the network and will define the controller\n",
    "\n",
    "    Args:\n",
    "        rows: Number of rows of host in the network\n",
    "        columns: Number of columns of host in the network\n",
    "        log: If True will activate logs od simulation  \n",
    "\n",
    "    Returns:\n",
    "        Will return the Network and the Controller\n",
    "    \"\"\"\n",
    "    # Defining the network\n",
    "    network = Network()\n",
    "\n",
    "    # Defining the Controller\n",
    "    controller = Controller(network)\n",
    "\n",
    "    # Defining the topology\n",
    "    network.set_ready_topology('Grade', rows, columns)\n",
    "\n",
    "    # Draw Nodes\n",
    "    network.draw()\n",
    "\n",
    "    # Log of simulator\n",
    "    if log:\n",
    "        Logger.activate(Logger)\n",
    "        \n",
    "    return network, controller\n"
   ]
  },
  {
   "cell_type": "markdown",
   "metadata": {},
   "source": [
    "## Escolhendo os nós do Black Hole"
   ]
  },
  {
   "cell_type": "code",
   "execution_count": null,
   "metadata": {},
   "outputs": [],
   "source": [
    "def selectBlackHoles(network: Network, \n",
    "                    num_black_holes: int) -> list:\n",
    "    \"\"\"\n",
    "    Randomly choose Black Holes\n",
    "\n",
    "    Args:\n",
    "        num_black_holes: Number of Black Holes\n",
    "\n",
    "    Returns:\n",
    "        Black Holes: List with all Black Holes\n",
    "    \"\"\"\n",
    "    all_hosts = copy(network.get_all_sorted_hosts())\n",
    "    black_hole_list = []\n",
    "    if num_black_holes > 0 and num_black_holes < len(all_hosts):\n",
    "        for host in range(0, num_black_holes):\n",
    "            black_hole = choice(all_hosts)\n",
    "            black_hole_list.append(black_hole)\n",
    "            all_hosts.pop(black_hole.host_id)\n",
    "\n",
    "    print(f\"Lista de Black Holes: [ \", end='')\n",
    "    for host in black_hole_list:\n",
    "        print(f\"{host.host_id} \", end='')\n",
    "    print(']')\n",
    "\n",
    "    return black_hole_list"
   ]
  },
  {
   "cell_type": "markdown",
   "metadata": {},
   "source": [
    "## Escolhendo os nós de Alice e de Bob"
   ]
  },
  {
   "cell_type": "code",
   "execution_count": null,
   "metadata": {},
   "outputs": [],
   "source": [
    "def selectAliceBob(network: Network, \n",
    "                    black_hole_list: list) -> tuple[Host, Host]:\n",
    "    \"\"\"\n",
    "    Will define the nodes: Alice, Bob\n",
    "\n",
    "    Args:\n",
    "        network: Network to wich the nodes belong\n",
    "        black_hole_list: List with all Black Holes\n",
    "\n",
    "    Returns:\n",
    "        Hosts: Will return respectively: Alice host, Bob host\n",
    "    \"\"\"\n",
    "    valid = False\n",
    "    while not valid:\n",
    "        alice_id = randint(0, len(network.hosts)-1)\n",
    "        alice = network.get_host(alice_id)\n",
    "        if alice not in black_hole_list:\n",
    "            valid = True\n",
    "    print(f\"O id de Alice é: {alice}\")\n",
    "\n",
    "    valid = False\n",
    "    while not valid:\n",
    "        bob_id = randint(0, len(network.hosts)-1)\n",
    "        bob = network.get_host(bob_id)\n",
    "        if bob_id != alice_id and bob not in black_hole_list:\n",
    "            valid = True\n",
    "    print(f\"O id de Bob é: {bob}\")\n",
    "\n",
    "\n",
    "    return alice, bob\n"
   ]
  },
  {
   "cell_type": "markdown",
   "metadata": {},
   "source": [
    "## Passando as rotas para o controlador"
   ]
  },
  {
   "cell_type": "code",
   "execution_count": null,
   "metadata": {},
   "outputs": [],
   "source": [
    "def getRoute(network: Network, \n",
    "            controller: Controller, \n",
    "            alice: Host, \n",
    "            bob: Host) -> list:\n",
    "    \"\"\"\n",
    "    Will define the route of Alice to Bob\n",
    "\n",
    "    Args:\n",
    "        network: Network to wich the nodes belong\n",
    "        controller: Controller of Network\n",
    "        alice: Sender host\n",
    "        bob: Receiver host\n",
    "\n",
    "    Returns:\n",
    "        Route: List with the rotes of Alice to Bob\n",
    "    \"\"\"\n",
    "    # Geting the all routing table\n",
    "    controller.register_routing_tables()\n",
    "\n",
    "    # Defining the route of Alice to Bob\n",
    "    route = network.get_host(alice.host_id).routing_table[bob.host_id]\n",
    "    print(f\"Alice: {alice} deseja se comunicar com Bob: {bob} pela rota {route}\")\n",
    "    \n",
    "    return route"
   ]
  },
  {
   "cell_type": "markdown",
   "metadata": {},
   "source": [
    "## Modificando manualmente a probabilidade do Black_Hole"
   ]
  },
  {
   "cell_type": "code",
   "execution_count": null,
   "metadata": {},
   "outputs": [],
   "source": [
    "def setNetworkSwappProb(network: Network, \n",
    "                        network_prob: float,  \n",
    "                        malicious_hosts_list: Host, \n",
    "                        malicious_hosts_prob: float) -> None:\n",
    "    \"\"\"\n",
    "    Will set network's probability of success of entanglement swapping\n",
    "\n",
    "    Args:\n",
    "        network: Network to wich the nodes belong\n",
    "        network_prob: Network's entanglement swapping probability\n",
    "        malicious_hosts: List with host which will attack the network\n",
    "        malicious_hosts_prob: Malicious host probability\n",
    "    \"\"\"\n",
    "    for host_id in range(0, len(network.hosts)):\n",
    "        temp_host = network.get_host(host_id=host_id)\n",
    "\n",
    "        if temp_host in malicious_hosts_list:\n",
    "            temp_host.setEntanglementSwappingProb(malicious_hosts_prob)\n",
    "        else:\n",
    "            temp_host.setEntanglementSwappingProb(network_prob)\n"
   ]
  },
  {
   "cell_type": "markdown",
   "metadata": {},
   "source": [
    "## Criação manual de entanglement entre os nós"
   ]
  },
  {
   "cell_type": "code",
   "execution_count": null,
   "metadata": {},
   "outputs": [],
   "source": [
    "def addQubits(host_A: Host, \n",
    "                host_B: Host, \n",
    "                counter: int) -> int:\n",
    "    \"\"\"\n",
    "    Will add qubits to both hosts\n",
    "\n",
    "    Args:\n",
    "        host_A: Host that wants to add the qubit\n",
    "        host_B: Host that wants to add the qubit\n",
    "        counter: Counter to index qubits\n",
    "\n",
    "    Returns:\n",
    "        Counter: Return updated counter\n",
    "    \"\"\"\n",
    "    temp_qubit_counter = counter\n",
    "    \n",
    "    qubit = Qubit(temp_qubit_counter)\n",
    "    host_A.add_qubit(qubit)\n",
    "\n",
    "    qubit = Qubit(temp_qubit_counter+1)\n",
    "    host_B.add_qubit(qubit)\n",
    "\n",
    "    temp_qubit_counter += 2\n",
    "\n",
    "    return temp_qubit_counter\n",
    "    \n",
    "# Creating entanglement between neighbors hosts\n",
    "def createEntanglements(route: list, \n",
    "                        network: Network,\n",
    "                        number_of_entanglements: int) -> None:\n",
    "    \"\"\"\n",
    "    Create entangleds pairs between the hosts of route\n",
    "\n",
    "    Args:\n",
    "        route: list with Host_A and Host_B\n",
    "        network: Network to wich the nodes belong\n",
    "        number_of_entanglements: Number of desired pairs\n",
    "    \"\"\"\n",
    "    # Used qubits\n",
    "    qubit_counter = 0\n",
    "\n",
    "    # Loop to create new entanglements\n",
    "    for entanglement in range(0, number_of_entanglements):\n",
    "        \n",
    "        # Save the qubit index to create new qubits\n",
    "        temp_qubit_counter = qubit_counter\n",
    "\n",
    "        # Create new entanglement to every host in the route\n",
    "        host_A = network.get_host(route[0])\n",
    "        host_B = network.get_host(route[1])\n",
    "\n",
    "        # Will trying until entangled be successfully created\n",
    "        entangled = False\n",
    "        while not entangled:\n",
    "\n",
    "            # If dont't have qubit on memory will add\n",
    "            if host_A.memory == [] or host_B.memory == []:\n",
    "                temp_qubit_counter = addQubits(host_A=host_A, host_B=host_B, counter=temp_qubit_counter)\n",
    "            print(f\"Tentativa de entanglement entre {host_A} e {host_B}\")\n",
    "\n",
    "            # Trying do entanglement between host_A and host_B\n",
    "            entangled = network.physical.entanglement_creation_heralding_protocol(host_A, host_B)\n",
    "\n",
    "            if not entangled:\n",
    "                temp_qubit_counter = addQubits(host_A=host_A, host_B=host_B, counter=temp_qubit_counter)\n",
    "                \n",
    "        # Update counter to qubit index\n",
    "        qubit_counter += temp_qubit_counter\n",
    "\n",
    "    print(f\"Foram criados {qubit_counter} qubits a mais para a realização dos {entanglement+1} entanglements\")"
   ]
  },
  {
   "cell_type": "markdown",
   "metadata": {},
   "source": [
    "## Criando um reabastecimento da rede"
   ]
  },
  {
   "cell_type": "code",
   "execution_count": null,
   "metadata": {},
   "outputs": [],
   "source": [
    "def replenishNetwork(network: Network, \n",
    "                    edges: list, \n",
    "                    number_of_entanglements) -> None:\n",
    "    print(\"Repondo os recursos da rede\")\n",
    "    for edge in edges:\n",
    "        createEntanglements(route=edge, network=network, number_of_entanglements=number_of_entanglements)"
   ]
  },
  {
   "cell_type": "markdown",
   "metadata": {},
   "source": [
    "## Criando as requisições"
   ]
  },
  {
   "cell_type": "code",
   "execution_count": null,
   "metadata": {},
   "outputs": [],
   "source": [
    "def createRequest(network: Network, alice: Host, bob: Host, attempts: int, route: list) -> tuple[int, int]:\n",
    "    \"\"\"\n",
    "    Args:\n",
    "        network: Network to wich the nodes belong\n",
    "        alice: Sender host\n",
    "        bob: Receiver host\n",
    "        route: Route of Alice to Bob\n",
    "\n",
    "    Returns:\n",
    "        Will return entanglement result and counter of attempts\n",
    "    \"\"\"\n",
    "    counter = 0\n",
    "    for attempt in range(0, attempts):\n",
    "        entangled = network.networklayer.entanglement_swapping(alice.host_id, bob.host_id, route=route)\n",
    "        if entangled != 0:\n",
    "            break\n",
    "        counter += 1\n",
    "\n",
    "    if entangled == -1:\n",
    "        print(\"Não é possível realizar o entanglement swapping\")\n",
    "    elif entangled == 0:\n",
    "        print(f\"O entanglement falhou com o total de {attempts}\")\n",
    "    else:\n",
    "        print(f\"O entanglement foi um sucesso depois de {counter} tentativas\")\n",
    "\n",
    "    network.get_host(alice.host_id).announce_to_controller_app_has_finished()\n",
    "\n",
    "    return entangled, counter"
   ]
  },
  {
   "cell_type": "markdown",
   "metadata": {},
   "source": [
    "## Criando a simulação"
   ]
  },
  {
   "cell_type": "code",
   "execution_count": null,
   "metadata": {},
   "outputs": [],
   "source": [
    "def simulation(\n",
    "        log: bool, \n",
    "        rows: int, \n",
    "        columns: int, \n",
    "        entanglements_replanished: int = 0, \n",
    "        requests: int = 100,\n",
    "        attempts_per_request: int = 2,\n",
    "        network_prob: float = None, \n",
    "        num_black_holes: int = 1, \n",
    "        black_hole_prob: int = None\n",
    "        ) -> dict:\n",
    "        \"\"\"Run the simulation with the desired parameters\n",
    "\n",
    "            Args:\n",
    "                runTimes: Number of times of simulation will run\n",
    "                log: Will show the simulator logs\n",
    "                rows: Number of rows of host in the network\n",
    "                columns: Number of columns of host in the network \n",
    "                entanglements_replanished: Number of entangled pair will be create to replanish network\n",
    "                requests: Number of requests in simulation\n",
    "                attempts_per_request: Number of attempts on a request\n",
    "                network_prob: Network's entanglement swapping probability\n",
    "                num_black_holes: Number of Black Holes in the network\n",
    "                black_hole_prob: Malicious host probability\n",
    "\n",
    "            Returns:\n",
    "                Dict: Return every information of run on simulation\"\"\"\n",
    "\n",
    "        # Create network and controller\n",
    "        network, controller = initNetwork(rows=rows, columns=columns, log=log)\n",
    "\n",
    "        # Set real edges\n",
    "        real_edges = network.edges\n",
    "\n",
    "        # Select Black Hole list\n",
    "        black_hole_list = selectBlackHoles(network=network, num_black_holes=num_black_holes)\n",
    "\n",
    "        # Select network Prob\n",
    "        setNetworkSwappProb(network=network, network_prob=network_prob, \n",
    "                            malicious_hosts_list=black_hole_list, malicious_hosts_prob=black_hole_prob)\n",
    "\n",
    "        # Dict with requests data\n",
    "        data = {}\n",
    "\n",
    "        # Add hash to requests\n",
    "        data[\"Requests\"] = {}\n",
    "\n",
    "        # Add Black Hole list\n",
    "        data[\"Black Holes\"] = [host.host_id for host in black_hole_list]\n",
    "\n",
    "        # Run requests\n",
    "        for request in range(0, requests):\n",
    "                \n",
    "                # Will Replanish the resources \n",
    "                if request != 0 and request % 10 == 0:\n",
    "                        replenishNetwork(network=network, edges=real_edges, number_of_entanglements=entanglements_replanished)\n",
    "\n",
    "                # Defining the nodes\n",
    "                alice, bob = selectAliceBob(network=network, black_hole_list=black_hole_list)\n",
    "\n",
    "                # Defining route\n",
    "                route = getRoute(network=network, controller=controller, alice=alice, bob=bob)\n",
    "\n",
    "                # Create request\n",
    "                entangled, attempts_counter = createRequest(network=network, alice=alice, bob=bob, attempts=attempts_per_request, route=route)\n",
    "\n",
    "                # Collect request data\n",
    "                data['Requests'][f\"request:{request}\"] = {\"Alice & Bob\": (alice.host_id, bob.host_id), \"Route\": route, \"Entangled\": entangled, \"Attempts\": attempts_counter}\n",
    "\n",
    "        # Add eprs data\n",
    "        data[\"Used Eprs\"] = network.get_total_useds_eprs()\n",
    "        \n",
    "        return data"
   ]
  },
  {
   "cell_type": "markdown",
   "metadata": {},
   "source": [
    "## Rodando a simulação e coletando os dados"
   ]
  },
  {
   "cell_type": "code",
   "execution_count": null,
   "metadata": {},
   "outputs": [],
   "source": [
    "data = simulation(log=False,\n",
    "    rows=4,\n",
    "    columns=3,\n",
    "    entanglements_replanished=1,\n",
    "    requests=100,\n",
    "    attempts_per_request=2,\n",
    "    network_prob=0.8,\n",
    "    num_black_holes=1,\n",
    "    black_hole_prob=0.1)"
   ]
  },
  {
   "cell_type": "markdown",
   "metadata": {},
   "source": [
    "## Mostrando os dados coletados"
   ]
  },
  {
   "cell_type": "code",
   "execution_count": null,
   "metadata": {},
   "outputs": [],
   "source": [
    "data"
   ]
  },
  {
   "cell_type": "markdown",
   "metadata": {},
   "source": [
    "## Taxa de Sucesso"
   ]
  },
  {
   "cell_type": "code",
   "execution_count": null,
   "metadata": {},
   "outputs": [],
   "source": [
    "success = impossible = fail = 0\n",
    "for run in data['Requests']:\n",
    "    if data['Requests'][run]['Entangled'] == 1:\n",
    "        success += 1\n",
    "    if data['Requests'][run]['Entangled'] == -1:\n",
    "        impossible += 1\n",
    "    if data['Requests'][run]['Entangled'] == 0:\n",
    "        fail += 1\n",
    "\n",
    "runs = len(data['Requests'].keys())\n",
    "\n",
    "success_tax = (success/runs) * 100\n",
    "impossible_tax = (impossible/runs) * 100\n",
    "fail_tax = (fail/runs) * 100\n",
    "print(f'Taxa de sucesso foi de {success_tax}%')\n",
    "print(f'Taxa de erros foi de {fail_tax}%')\n",
    "print(f'Taxa de erros por falta de recursos foi de {impossible_tax}%')\n",
    "print(f\"Foram usados no total {data['Used Eprs']} em {len(data['Requests'].keys())} execuções\")"
   ]
  }
 ],
 "metadata": {
  "kernelspec": {
   "display_name": ".venv",
   "language": "python",
   "name": "python3"
  },
  "language_info": {
   "codemirror_mode": {
    "name": "ipython",
    "version": 3
   },
   "file_extension": ".py",
   "mimetype": "text/x-python",
   "name": "python",
   "nbconvert_exporter": "python",
   "pygments_lexer": "ipython3",
   "version": "3.12.3"
  }
 },
 "nbformat": 4,
 "nbformat_minor": 4
}
