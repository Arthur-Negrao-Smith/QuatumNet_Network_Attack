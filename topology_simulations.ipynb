{
 "cells": [
  {
   "cell_type": "markdown",
   "metadata": {},
   "source": [
    "## Fazendo import das dependências"
   ]
  },
  {
   "cell_type": "code",
   "execution_count": 1,
   "metadata": {},
   "outputs": [],
   "source": [
    "from BHA_functions import asyncSimulations_Linux\n",
    "from BHA_functions import DataCollector, DataGroup\n",
    "from BHA_functions import GraphicGenerator\n",
    "from datetime import datetime"
   ]
  },
  {
   "cell_type": "markdown",
   "metadata": {},
   "source": [
    "## Definindo as constantes das simulações"
   ]
  },
  {
   "cell_type": "code",
   "execution_count": 2,
   "metadata": {},
   "outputs": [],
   "source": [
    "PATH: str = 'Simulations_Data/topology_simulations'\n",
    "CORES: int = 12\n",
    "RUNS_PER_POINT: int = 1\n",
    "\n",
    "TARGET: tuple[bool] = (True, False)\n",
    "\n",
    "NETWORK_PROB: float = 0.8\n",
    "BHA_PROB: float = 0.4\n",
    "\n",
    "TOPOLOGIES: str = ('Grade', 'Ba', 'Er')\n",
    "TOPOLOGY_PARAMS: tuple[float] = (0.1, 0.3, 0.5)\n",
    "\n",
    "PROB_EDGE_CREATION: float = 0.4\n",
    "EDGES_TO_ATTACH: int = 3\n",
    "\n",
    "PASS_OF_NODE: int = 12\n",
    "NUMBER_OF_NODES: tuple = tuple([i for i in range(12, 108, PASS_OF_NODE)])\n",
    "GRADE_NODES: dict = {\n",
    "    12:(3, 4),\n",
    "    24:(4, 6),\n",
    "    36:(6, 6),\n",
    "    48:(6, 8),\n",
    "    60:(6, 10),\n",
    "    72:(8, 9),\n",
    "    84:(7, 12),\n",
    "    96:(8, 12)\n",
    "}\n",
    "\n",
    "GRAPHIC_POINTS: int = len(NUMBER_OF_NODES)"
   ]
  },
  {
   "cell_type": "markdown",
   "metadata": {},
   "source": [
    "## Rodando a simulação sem Black Hole em todas as topologias"
   ]
  },
  {
   "cell_type": "code",
   "execution_count": null,
   "metadata": {},
   "outputs": [],
   "source": [
    "# Default params\n",
    "simulations_params: dict = {\n",
    "            'runs':RUNS_PER_POINT,\n",
    "            'topology':TOPOLOGIES[0],\n",
    "            'number_nodes':20,\n",
    "            'rows':4,\n",
    "            'columns':3,\n",
    "            'prob_edge_creation':PROB_EDGE_CREATION,\n",
    "            'edges_to_attach':EDGES_TO_ATTACH,\n",
    "            'entanglements_replanished':10,\n",
    "            'requests':100,\n",
    "            'attempts_per_request':2,\n",
    "            'network_prob':NETWORK_PROB,\n",
    "            'num_black_holes':0,\n",
    "            'black_hole_prob':BHA_PROB,\n",
    "            'black_hole_target':TARGET\n",
    "        }\n",
    "\n",
    "for topology in TOPOLOGIES:\n",
    "    simulations_params['topology'] = topology\n",
    "\n",
    "    for number_of_nodes in NUMBER_OF_NODES:\n",
    "        simulations_params['number_nodes'] = number_of_nodes\n",
    "\n",
    "        if topology == 'Grade':\n",
    "            simulations_params['rows'] = GRADE_NODES[number_of_nodes][0]\n",
    "            simulations_params['columns'] = GRADE_NODES[number_of_nodes][1]\n",
    "\n",
    "        # Runing no BHA simulation\n",
    "        default_simulation: DataCollector = asyncSimulations_Linux(cores=CORES, **simulations_params)\n",
    "        default_simulation.save(file_name=f'{PATH}/Default_Network/{topology}')"
   ]
  },
  {
   "cell_type": "markdown",
   "metadata": {},
   "source": [
    "## Realizando todas as simulações com Black Holes"
   ]
  },
  {
   "cell_type": "code",
   "execution_count": null,
   "metadata": {},
   "outputs": [],
   "source": [
    "# Run all topologies and update your parameter\n",
    "for topology in TOPOLOGIES:\n",
    "    simulations_params['topology'] = topology\n",
    "    \n",
    "    # Run all targets (True, False) and update your parameter\n",
    "    for target in TARGET:\n",
    "        simulations_params['target'] = target\n",
    "        \n",
    "        # Run all topology parameters (0.1, 0.3, 0.5) and updating your parameters\n",
    "        for indexgroup, topology_param in enumerate(TOPOLOGY_PARAMS):\n",
    "            \n",
    "            # Grade topology won't change your params, so no need run more than once simulation per target\n",
    "            if topology == \"Grade\" and indexgroup > 0:\n",
    "                continue\n",
    "\n",
    "            # Updating parameters of topology (0.1, 0. 3 or 0.5) in prob_edge_creation and (1, 3 or 5) in edges_to_attach\n",
    "            simulations_params['prob_edge_creation'] = topology_param\n",
    "            simulations_params['edges_to_attach'] = int(topology_param * 10)\n",
    "\n",
    "            # Run all points and update your parameter\n",
    "            for point, number_of_nodes in enumerate(NUMBER_OF_NODES):\n",
    "                start: datetime = datetime.now() # Debug: start timer to BenchMark\n",
    "                \n",
    "                # Update the topology parameters, because number_nodes don't affect this topology\n",
    "                if topology == 'Grade':\n",
    "                    simulations_params['rows'] = GRADE_NODES[number_of_nodes][0]\n",
    "                    simulations_params['columns'] = GRADE_NODES[number_of_nodes][1]\n",
    "\n",
    "                # Updating umber of nodes of simulation\n",
    "                simulations_params['num_black_holes'] = int(number_of_nodes * topology_param)\n",
    "\n",
    "                # Running simulation\n",
    "                simulations_dc: DataCollector = asyncSimulations_Linux(cores=CORES, **simulations_params)\n",
    "\n",
    "                # Saving CSV file\n",
    "                simulations_dc.save(file_name=f'{PATH}/BHA_Network/{topology}/Target-{target}/{int(topology_param*10)}param/point{point}')\n",
    "\n",
    "                # BenchMark\n",
    "                print(f\"As {simulations_params['runs']} simulações da topologia {topology} finalizaram no tempo de: {datetime.now()-start}\")\n",
    "                print('-='*50)"
   ]
  },
  {
   "cell_type": "markdown",
   "metadata": {},
   "source": [
    "## Coletando os dados diretamente dos CSVs de cada simulação"
   ]
  },
  {
   "cell_type": "code",
   "execution_count": null,
   "metadata": {},
   "outputs": [],
   "source": [
    "default_networks: dict = dict()\n",
    "for topology in TOPOLOGIES:\n",
    "    default_network: DataCollector = DataCollector()\n",
    "    default_network.get_DataFrame_csv(f'{PATH}/Default_Network/{topology}.csv')\n",
    "    default_networks[topology] = default_network\n",
    "\n",
    "# Create DataGroups for all params and Topologys\n",
    "dg_grade_target_off: DataGroup = DataGroup()\n",
    "dg_grade_target_on: DataGroup = DataGroup()\n",
    "dg_ba_target_off: DataGroup = DataGroup()\n",
    "dg_ba_target_on: DataGroup = DataGroup()\n",
    "dg_er_target_off: DataGroup = DataGroup()\n",
    "dg_er_target_on: DataGroup = DataGroup()\n",
    "\n",
    "# Puting all DataGroups in a dict\n",
    "dg_dict: dict = {\n",
    "    'Grade':{True:dg_grade_target_on, False:dg_grade_target_off},\n",
    "    'Ba':{True:dg_ba_target_on, False:dg_ba_target_off},\n",
    "    'Er':{True:dg_er_target_on, False:dg_er_target_off}\n",
    "}\n",
    "\n",
    "# Collecting data of all topologies, except Grade topology\n",
    "# The DataGroup and dict will look like this\n",
    "# dg_dict = {\n",
    "# 'Grade': {True:[(D1,..., Dnpoints)], False: [(D1,..., Dnpoints)]}, \n",
    "# 'Ba': {True:[(D1,..., Dnpoints), (D1,..., Dnpoints), (D1,..., Dnpoints)], False:[(D1,..., Dnpoints), (D1,..., Dnpoints), (D1,..., Dnpoints)]},\n",
    "# 'Er': {True:[(D1,..., Dnpoints), (D1,..., Dnpoints), (D1,..., Dnpoints)], False:[(D1,..., Dnpoints), (D1,..., Dnpoints), (D1,..., Dnpoints)]}\n",
    "# }\n",
    "# D1 and Dnpoints are DataGroups with all data of current point\n",
    "#\n",
    "# {Topology: { True: [ (     D1, ..., Dn), ..., ()], False:[ (),..., ()]}, ...}\n",
    "# ↑          ↑         ↑     ↑\n",
    "# ↑          ↑         ↑     DataCollector per point\n",
    "# ↑          ↑        Param of simulation (0.1, 0.3, 0.5)\n",
    "# ↑         Dict of tagerts on (True) or off (False)\n",
    "# Dict of topology\n",
    "\n",
    "for topology in TOPOLOGIES:\n",
    "    if topology == \"Grade\":\n",
    "        continue\n",
    "    for target in TARGET:\n",
    "        for indexgroup, topology_param in enumerate(TOPOLOGY_PARAMS):\n",
    "            for point in range(0, GRAPHIC_POINTS):\n",
    "                temp_dc: DataCollector = DataCollector()\n",
    "                temp_dc.get_DataFrame_csv(f'{PATH}/BHA_Network/{topology}/Target-{target}/{int(topology_param*10)}param/point{point}.csv')\n",
    "                \n",
    "                dg_dict[topology][target].add_Data(value=temp_dc, indexgroup=indexgroup)\n",
    "\n",
    "# Collecting only data of Grade topology        \n",
    "for target in TARGET:\n",
    "    dg_dict['Grade'][target].add_Group(value=tuple())\n",
    "    for point in range(0, GRAPHIC_POINTS):\n",
    "        temp_dc: DataCollector = DataCollector()\n",
    "        temp_dc.get_DataFrame_csv(f'{PATH}/BHA_Network/Grade/Target-{target}/point{point}.csv')\n",
    "\n",
    "        dg_dict[\"Grade\"][topology].add_Data(value=temp_dc, indexgroup=0)\n"
   ]
  },
  {
   "cell_type": "markdown",
   "metadata": {},
   "source": [
    "## Criando uma função genérica para plotar os gráficos"
   ]
  },
  {
   "cell_type": "code",
   "execution_count": null,
   "metadata": {},
   "outputs": [],
   "source": [
    "def plotGraphic(\n",
    "        dataGroup: DataGroup,\n",
    "        default_diff: dict[DataCollector], \n",
    "        topology: str,\n",
    "        pass_of_node: float,\n",
    "        topology_params: tuple,\n",
    "        y_column_name: str, \n",
    "        title: str, \n",
    "        x_label: str, \n",
    "        y_label: str) -> None:\n",
    "    \"\"\"\n",
    "    Will show the simulations graph\n",
    "\n",
    "    Args:\n",
    "        dataGroup (required): DataGroup with all DataCollectors\n",
    "        default_diff (required): Pass the network without black holes to compare, if None don't affect the result\n",
    "        topology (required): String with name of the selected topology\n",
    "        pass_of_node (required): Variation of nodes per point\n",
    "        topology_params (required): Tuple with all parameter of each plot\n",
    "        y_column_name (required): Name of column data\n",
    "        title (required): Title of graph\n",
    "        x_label (required): X axis label\n",
    "        y_label (required): Y axis label\n",
    "    \"\"\"\n",
    "    \n",
    "    graphicGen: GraphicGenerator = GraphicGenerator()\n",
    "\n",
    "    for pos, datacollectors in enumerate(dataGroup):\n",
    "\n",
    "        if topology == 'Ba':\n",
    "            plot_label: str = f\"m={int(topology_params[pos])}\"\n",
    "        elif topology == 'Er':\n",
    "            plot_label: str = f\"p={topology_params[pos]}\"\n",
    "        else:\n",
    "            plot_label: str = ''\n",
    "\n",
    "        graphicGen.add_on_plot(\n",
    "            plot_label=plot_label, \n",
    "            x_column=(12, pass_of_node), \n",
    "            y_column_name=y_column_name, \n",
    "            y_standard_deviation=False,\n",
    "            dc=datacollectors,\n",
    "            default_diff=default_diff[topology])\n",
    "\n",
    "    graphicGen.show_plot(\n",
    "        title=title,\n",
    "        x_label=x_label, \n",
    "        y_label=y_label)"
   ]
  },
  {
   "cell_type": "markdown",
   "metadata": {},
   "source": [
    "## Gerando o gráfico da Topologia de Grade sem alvo"
   ]
  },
  {
   "cell_type": "code",
   "execution_count": null,
   "metadata": {},
   "outputs": [],
   "source": [
    "plotGraphic(\n",
    "    dataGroup=dg_dict['Grade'][False],\n",
    "    default_diff=default_network,\n",
    "    topology='Grade',\n",
    "    pass_of_node=PASS_OF_NODE,\n",
    "    topology_params=TOPOLOGY_PARAMS,\n",
    "    y_column_name=\"Success Tax\",\n",
    "    title=\"Diferença na Taxa de Sucesso vs Número de nós (Grade)\",\n",
    "    x_label='Número de nós',\n",
    "    y_label='Diferença na Taxa de Sucesso'\n",
    "    )"
   ]
  },
  {
   "cell_type": "markdown",
   "metadata": {},
   "source": [
    "## Gerando o gráfico da Topologia de Grade com alvo"
   ]
  },
  {
   "cell_type": "code",
   "execution_count": null,
   "metadata": {},
   "outputs": [],
   "source": [
    "plotGraphic(\n",
    "    dataGroup=dg_dict['Grade'][True],\n",
    "    default_diff=default_network,\n",
    "    topology='Grade',\n",
    "    pass_of_node=PASS_OF_NODE,\n",
    "    topology_params=TOPOLOGY_PARAMS,\n",
    "    y_column_name=\"Success Tax\",\n",
    "    title=\"Diferença na Taxa de Sucesso vs Número de nós (Grade)\",\n",
    "    x_label='Número de nós',\n",
    "    y_label='Diferença na Taxa de Sucesso'\n",
    "    )"
   ]
  },
  {
   "cell_type": "markdown",
   "metadata": {},
   "source": [
    "## Gerando o Gráfico da Topologia Barabasi-Albert sem alvo"
   ]
  },
  {
   "cell_type": "code",
   "execution_count": null,
   "metadata": {},
   "outputs": [],
   "source": [
    "plotGraphic(\n",
    "    dataGroup=dg_dict['Ba'][False],\n",
    "    default_diff=default_network,\n",
    "    topology='Ba',\n",
    "    pass_of_node=PASS_OF_NODE,\n",
    "    topology_params=TOPOLOGY_PARAMS,\n",
    "    y_column_name=\"Success Tax\",\n",
    "    title=\"Diferença na Taxa de Sucesso vs Número de nós (Barabasi-Albert)\",\n",
    "    x_label='Número de nós',\n",
    "    y_label='Diferença na Taxa de Sucesso'\n",
    ")"
   ]
  },
  {
   "cell_type": "markdown",
   "metadata": {},
   "source": [
    "## Gerando o Gráfico da Topologia Barabasi-Albert com alvo"
   ]
  },
  {
   "cell_type": "code",
   "execution_count": null,
   "metadata": {},
   "outputs": [],
   "source": [
    "plotGraphic(\n",
    "    dataGroup=dg_dict['Ba'][True],\n",
    "    default_diff=default_network,\n",
    "    topology='Ba',\n",
    "    pass_of_node=PASS_OF_NODE,\n",
    "    topology_params=TOPOLOGY_PARAMS,\n",
    "    y_column_name=\"Success Tax\",\n",
    "    title=\"Diferença na Taxa de Sucesso vs Número de nós (Barabasi-Albert)\",\n",
    "    x_label='Número de nós',\n",
    "    y_label='Diferença na Taxa de Sucesso'\n",
    ")"
   ]
  },
  {
   "cell_type": "markdown",
   "metadata": {},
   "source": [
    "## Gerando o Gráfico da Topologia Erdos Renyi sem alvo"
   ]
  },
  {
   "cell_type": "code",
   "execution_count": null,
   "metadata": {},
   "outputs": [],
   "source": [
    "plotGraphic(\n",
    "    dataGroup=dg_dict['Er'][False],\n",
    "    default_diff=default_network,\n",
    "    topology='Er',\n",
    "    pass_of_node=PASS_OF_NODE,\n",
    "    topology_params=TOPOLOGY_PARAMS,\n",
    "    y_column_name=\"Success Tax\",\n",
    "    title=\"Diferença na Taxa de Sucesso vs Número de nós (Erdos Renyi)\",\n",
    "    x_label='Número de nós',\n",
    "    y_label='Diferença na Taxa de Sucesso'\n",
    ")"
   ]
  },
  {
   "cell_type": "markdown",
   "metadata": {},
   "source": [
    "## Gerando o Gráfico da Topologia Erdos Renyi com alvo"
   ]
  },
  {
   "cell_type": "code",
   "execution_count": null,
   "metadata": {},
   "outputs": [],
   "source": [
    "plotGraphic(\n",
    "    dataGroup=dg_dict['Er'][True],\n",
    "    default_diff=default_network,\n",
    "    topology='Er',\n",
    "    pass_of_node=PASS_OF_NODE,\n",
    "    topology_params=TOPOLOGY_PARAMS,\n",
    "    y_column_name=\"Success Tax\",\n",
    "    title=\"Diferença na Taxa de Sucesso vs Número de nós (Erdos Renyi)\",\n",
    "    x_label='Número de nós',\n",
    "    y_label='Diferença na Taxa de Sucesso'\n",
    ")"
   ]
  }
 ],
 "metadata": {
  "kernelspec": {
   "display_name": "Python 3 (ipykernel)",
   "language": "python",
   "name": "python3"
  },
  "language_info": {
   "codemirror_mode": {
    "name": "ipython",
    "version": 3
   },
   "file_extension": ".py",
   "mimetype": "text/x-python",
   "name": "python",
   "nbconvert_exporter": "python",
   "pygments_lexer": "ipython3",
   "version": "3.12.7"
  }
 },
 "nbformat": 4,
 "nbformat_minor": 4
}
