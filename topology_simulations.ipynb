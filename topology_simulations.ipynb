{
 "cells": [
  {
   "cell_type": "markdown",
   "metadata": {},
   "source": [
    "## Fazendo import das dependências"
   ]
  },
  {
   "cell_type": "code",
   "execution_count": null,
   "metadata": {},
   "outputs": [],
   "source": [
    "from BHA_functions import asyncSimulations_Linux\n",
    "from BHA_functions import DataCollector\n",
    "from BHA_functions import GraphicGenerator\n",
    "from datetime import datetime"
   ]
  },
  {
   "cell_type": "markdown",
   "metadata": {},
   "source": [
    "## Definindo as constantes das simulações"
   ]
  },
  {
   "cell_type": "code",
   "execution_count": null,
   "metadata": {},
   "outputs": [],
   "source": [
    "PATH = 'Simulations_Data/topology_simulations'\n",
    "CORES = 12\n",
    "RUNS_PER_POINT = 1\n",
    "\n",
    "TARGET = (True, False)\n",
    "\n",
    "NETWORK_PROB = 0.8\n",
    "BHA_PROB = 0.4\n",
    "\n",
    "TOPOLOGIES = ('Grade', 'Ba', 'Er')\n",
    "BHA_NODES_PROP = (0.1, 0.3, 0.5)\n",
    "\n",
    "PROB_EDGE_CREATION = 0.4\n",
    "EDGES_TO_ATTACH = 3\n",
    "\n",
    "NUMBER_OF_NODES = tuple([i for i in range(12, 108, 12)])\n",
    "GRADE_NODES = {\n",
    "    12:(3, 4),\n",
    "    24:(4, 6),\n",
    "    36:(6, 6),\n",
    "    48:(6, 8),\n",
    "    60:(6, 10),\n",
    "    72:(8, 9),\n",
    "    84:(7, 12),\n",
    "    96:(8, 12)\n",
    "}\n",
    "\n",
    "GRAPHIC_POINTS = len(NUMBER_OF_NODES)"
   ]
  },
  {
   "cell_type": "markdown",
   "metadata": {},
   "source": [
    "## Rodando a simulação sem Black Hole em todas as topologias"
   ]
  },
  {
   "cell_type": "code",
   "execution_count": null,
   "metadata": {},
   "outputs": [],
   "source": [
    "# Default params\n",
    "simulations_params = {\n",
    "            'runs':RUNS_PER_POINT,\n",
    "            'topology':TOPOLOGIES[0],\n",
    "            'number_nodes':20,\n",
    "            'rows':4,\n",
    "            'columns':3,\n",
    "            'prob_edge_creation':PROB_EDGE_CREATION,\n",
    "            'edges_to_attach':EDGES_TO_ATTACH,\n",
    "            'entanglements_replanished':10,\n",
    "            'requests':100,\n",
    "            'attempts_per_request':2,\n",
    "            'network_prob':NETWORK_PROB,\n",
    "            'num_black_holes':0,\n",
    "            'black_hole_prob':BHA_PROB,\n",
    "            'black_hole_target':TARGET\n",
    "        }\n",
    "\n",
    "for topology in TOPOLOGIES:\n",
    "    simulations_params['topology'] = topology\n",
    "\n",
    "    for number_of_nodes in NUMBER_OF_NODES:\n",
    "        simulations_params['number_nodes'] = number_of_nodes\n",
    "\n",
    "        if topology == 'Grade':\n",
    "            simulations_params['rows'] = GRADE_NODES[number_of_nodes][0]\n",
    "            simulations_params['columns'] = GRADE_NODES[number_of_nodes][1]\n",
    "\n",
    "        # Runing no BHA simulation\n",
    "        default_simulation = asyncSimulations_Linux(cores=CORES, **simulations_params)\n",
    "        default_simulation.save(file_name=f'{PATH}/Default_Network/{topology}')"
   ]
  },
  {
   "cell_type": "markdown",
   "metadata": {},
   "source": [
    "## Realizando todas as simulações com Black Holes"
   ]
  },
  {
   "cell_type": "code",
   "execution_count": null,
   "metadata": {},
   "outputs": [],
   "source": [
    "for topology in TOPOLOGIES:\n",
    "    simulations_params['topology'] = topology\n",
    "    \n",
    "    for target in TARGET:\n",
    "        simulations_params['target'] = target\n",
    "        \n",
    "        for bha_prop in BHA_NODES_PROP:\n",
    "\n",
    "            for point, number_of_nodes in enumerate(NUMBER_OF_NODES):\n",
    "                start = datetime.now()\n",
    "                \n",
    "                if topology == 'Grade':\n",
    "                    simulations_params['rows'] = GRADE_NODES[number_of_nodes][0]\n",
    "                    simulations_params['columns'] = GRADE_NODES[number_of_nodes][1]\n",
    "\n",
    "                # Updating umber of nodes of simulation\n",
    "                simulations_params['num_black_holes'] = int(number_of_nodes * bha_prop)\n",
    "\n",
    "                # Running simulation\n",
    "                simulations_dc = asyncSimulations_Linux(cores=CORES, **simulations_params)\n",
    "\n",
    "                # Saving CSV file\n",
    "                simulations_dc.save(file_name=f'{PATH}/BHA_Network/{topology}/Target-{target}/{int(bha_prop*10)}prop/point{point}')\n",
    "\n",
    "                # BenchMark\n",
    "                print(f\"As {simulations_params['runs']} simulações da topologia {topology} finalizaram no tempo de: {datetime.now()-start}\")\n",
    "                print('-='*50)"
   ]
  },
  {
   "cell_type": "markdown",
   "metadata": {},
   "source": [
    "## Coletando os dados diretamente dos CSVs de cada simulação"
   ]
  },
  {
   "cell_type": "code",
   "execution_count": null,
   "metadata": {},
   "outputs": [],
   "source": [
    "default_networks = dict()\n",
    "for topology in TOPOLOGIES:\n",
    "    default_network = DataCollector()\n",
    "    default_network.get_DataFrame_csv(f'{PATH}/Default_Network/{topology}.csv')\n",
    "    default_networks[topology] = default_network\n",
    "\n",
    "datacollectors_list = []\n",
    "for topology in TOPOLOGIES:\n",
    "    for target in TARGET:\n",
    "        for bha_prop in BHA_NODES_PROP:\n",
    "            temp_datacollectors = []\n",
    "            for point in range(0, GRAPHIC_POINTS):\n",
    "                temp_dc = DataCollector()\n",
    "                temp_dc.get_DataFrame_csv(f'{PATH}/BHA_Network/{topology}/Target-{target}/{bha_prop}nodes/point{point}.csv')\n",
    "                temp_datacollectors.append(temp_dc)\n",
    "            datacollectors_list.append(tuple(temp_datacollectors))"
   ]
  },
  {
   "cell_type": "markdown",
   "metadata": {},
   "source": [
    "## Criando uma função genérica para plotar os gráficos"
   ]
  },
  {
   "cell_type": "code",
   "execution_count": null,
   "metadata": {},
   "outputs": [],
   "source": [
    "def plotGraphic(\n",
    "        dataCollectors_list: list[tuple[DataCollector]],\n",
    "        default_diff: DataCollector, \n",
    "        intensity_variation: float,\n",
    "        bha_nodes: tuple,\n",
    "        y_column_name: str, \n",
    "        title: str, \n",
    "        x_label: str, \n",
    "        y_label: str) -> None:\n",
    "    \"\"\"\n",
    "    Will show the simulations graph\n",
    "\n",
    "    Args:\n",
    "        dataCollectors_list (required): List with tuples of DataCollectors\n",
    "        default_diff (required): Pass the network without black holes to compare, if None don't affect the result\n",
    "        intensity_variation (required): Variation of intensity per point\n",
    "        bha_nodes (required): Tuple with number of nodes\n",
    "        y_column_name (required): Name of column data\n",
    "        title (required): Title of graph\n",
    "        x_label (required): X axis label\n",
    "        y_label (required): Y axis label\n",
    "    \"\"\"\n",
    "    \n",
    "    graphicGen = GraphicGenerator()\n",
    "\n",
    "    for pos, datacollectors in enumerate(dataCollectors_list):\n",
    "        graphicGen.add_on_plot(\n",
    "            plot_label=f'{bha_nodes[pos]} nós', \n",
    "            x_column=(0.1, intensity_variation), \n",
    "            y_column_name=y_column_name, \n",
    "            y_standard_deviation=False,\n",
    "            dc=datacollectors,\n",
    "            default_diff=default_diff)\n",
    "\n",
    "    graphicGen.show_plot(\n",
    "        title=title,\n",
    "        x_label=x_label, \n",
    "        y_label=y_label)"
   ]
  },
  {
   "cell_type": "markdown",
   "metadata": {},
   "source": [
    "## Gerando o gráfico da Topologia de Grade"
   ]
  },
  {
   "cell_type": "code",
   "execution_count": null,
   "metadata": {},
   "outputs": [],
   "source": [
    "plotGraphic(\n",
    "    dataCollectors_list=datacollectors_list,\n",
    "    default_diff=default_network,\n",
    "    intensity_variation=INTENSITY_VARIATION,\n",
    "    bha_nodes=BHA_NODES_PROP,\n",
    "    y_column_name=\"Success Tax\",\n",
    "    title=\"Diferença na Taxa de Sucesso vs Número de nós (Grade)\",\n",
    "    x_label='Número de nós',\n",
    "    y_label='Diferença na Taxa de Sucesso'\n",
    "    )"
   ]
  },
  {
   "cell_type": "markdown",
   "metadata": {},
   "source": [
    "## Gerando o Gráfico da Topologia Barabasi-Albert"
   ]
  },
  {
   "cell_type": "code",
   "execution_count": null,
   "metadata": {},
   "outputs": [],
   "source": [
    "plotGraphic(\n",
    "    dataCollectors_list=datacollectors_list,\n",
    "    default_diff=default_network,\n",
    "    intensity_variation=INTENSITY_VARIATION,\n",
    "    bha_nodes=BHA_NODES_PROP,\n",
    "    y_column_name=\"Success Tax\",\n",
    "    title=\"Diferença na Taxa de Sucesso vs Número de nós (Barabasi-Albert)\",\n",
    "    x_label='Número de nós',\n",
    "    y_label='Diferença na Taxa de Sucesso'\n",
    ")"
   ]
  },
  {
   "cell_type": "markdown",
   "metadata": {},
   "source": [
    "## Gerando o Gráfico da Topologia Erdos Renyi"
   ]
  },
  {
   "cell_type": "code",
   "execution_count": null,
   "metadata": {},
   "outputs": [],
   "source": [
    "plotGraphic(\n",
    "    dataCollectors_list=datacollectors_list,\n",
    "    default_diff=default_network,\n",
    "    intensity_variation=INTENSITY_VARIATION,\n",
    "    bha_nodes=BHA_NODES_PROP,\n",
    "    y_column_name=\"Success Tax\",\n",
    "    title=\"Diferença na Taxa de Sucesso vs Número de nós (Erdos Renyi)\",\n",
    "    x_label='Número de nós',\n",
    "    y_label='Diferença na Taxa de Sucesso'\n",
    ")"
   ]
  }
 ],
 "metadata": {
  "language_info": {
   "name": "python"
  }
 },
 "nbformat": 4,
 "nbformat_minor": 2
}
