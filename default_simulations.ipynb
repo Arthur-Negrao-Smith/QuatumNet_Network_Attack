{
 "cells": [
  {
   "cell_type": "markdown",
   "id": "14ce4ec5",
   "metadata": {},
   "source": [
    "## Fazendo import das dependências"
   ]
  },
  {
   "cell_type": "code",
   "execution_count": null,
   "id": "707821a7",
   "metadata": {},
   "outputs": [],
   "source": [
    "from simulations_functions import asyncSimulations_Linux\n",
    "from BHA_functions import DataCollector\n",
    "from BHA_functions import GraphicGenerator\n",
    "from datetime import datetime"
   ]
  },
  {
   "cell_type": "markdown",
   "id": "8ddaa22a",
   "metadata": {},
   "source": [
    "## Definindo as constantes das simulações"
   ]
  },
  {
   "cell_type": "code",
   "execution_count": null,
   "id": "5327dc31",
   "metadata": {},
   "outputs": [],
   "source": [
    "CORES = 12\n",
    "RUNS_PER_POINT = 1\n",
    "\n",
    "TARGET = False\n",
    "GRAPHIC_POINTS = 7\n",
    "\n",
    "NETWORK_PROB = 0.8\n",
    "TOPOLOGY = 'Grade'\n",
    "INTENSITY_VARIATION = 0.1\n",
    "BHA_NODES = (1, 3, 5)"
   ]
  },
  {
   "cell_type": "markdown",
   "id": "a7a359e3",
   "metadata": {},
   "source": [
    "## Realizando todas as simulações"
   ]
  },
  {
   "cell_type": "code",
   "execution_count": null,
   "id": "41f8e0d7-a488-40cd-ab69-afdce1114b9d",
   "metadata": {},
   "outputs": [],
   "source": [
    "intensity = []\n",
    "for c in range(1, GRAPHIC_POINTS+1):\n",
    "    intensity.append(NETWORK_PROB - c*INTENSITY_VARIATION)\n",
    "\n",
    "for nodes in BHA_NODES:\n",
    "    for i in range(0, GRAPHIC_POINTS):\n",
    "        start = datetime.now()\n",
    "        simulations_params = {\n",
    "            'runs':RUNS_PER_POINT,\n",
    "            'topology':TOPOLOGY,\n",
    "            'number_nodes':20,\n",
    "            'rows':4,\n",
    "            'columns':3,\n",
    "            'prob_edge_creation':0.1,\n",
    "            'edges_to_attach':3,\n",
    "            'entanglements_replanished':10,\n",
    "            'requests':100,\n",
    "            'attempts_per_request':2,\n",
    "            'network_prob':NETWORK_PROB,\n",
    "            'num_black_holes':nodes,\n",
    "            'black_hole_prob':intensity[i],\n",
    "            'black_hole_target':TARGET\n",
    "        }\n",
    "        # Running simulation\n",
    "        simulations_dc = asyncSimulations_Linux(cores=CORES, **simulations_params)\n",
    "        # Saving CSV file\n",
    "        simulations_dc.save(file_name=f'default_simulations/Target-{TARGET}/{nodes}nodes/point{i}')\n",
    "        # BenchMark\n",
    "        print(f\"As {simulations_params['runs']} simulações finalizaram no tempo de: {datetime.now()-start}\")\n",
    "        print('-='*50)"
   ]
  },
  {
   "cell_type": "markdown",
   "id": "cb264355",
   "metadata": {},
   "source": [
    "## Coletando os dados diretamente dos CSVs de cada simulação"
   ]
  },
  {
   "cell_type": "code",
   "execution_count": null,
   "id": "c06cce7a",
   "metadata": {},
   "outputs": [],
   "source": [
    "datacollectors_list = []\n",
    "for nodes in BHA_NODES:\n",
    "    temp_datacollectors = []\n",
    "    for i in range(0, GRAPHIC_POINTS):\n",
    "        temp_dc = DataCollector()\n",
    "        temp_dc.get_DataFrame_csv(f'default_simulations/Target-{TARGET}/{nodes}nodes/point{i}.csv')\n",
    "        temp_datacollectors.append(temp_dc)\n",
    "    datacollectors_list.append(tuple(temp_datacollectors))"
   ]
  },
  {
   "cell_type": "markdown",
   "id": "32069299",
   "metadata": {},
   "source": [
    "## Criando uma função genérica para plotar os gráficos"
   ]
  },
  {
   "cell_type": "code",
   "execution_count": null,
   "id": "59846943",
   "metadata": {},
   "outputs": [],
   "source": [
    "def plotGraphic(\n",
    "        dataCollectors_list: list[tuple[DataCollector]], \n",
    "        intensity_variation: float,\n",
    "        bha_nodes: tuple,\n",
    "        y_column_name: str, \n",
    "        title: str, \n",
    "        x_label: str, \n",
    "        y_label: str) -> None:\n",
    "    \n",
    "    graphicGen = GraphicGenerator()\n",
    "\n",
    "    for pos, datacollectors in enumerate(dataCollectors_list):\n",
    "        graphicGen.add_on_plot(\n",
    "            plot_label=f'{bha_nodes[pos]} nós', \n",
    "            x_column=(0.1, intensity_variation), \n",
    "            y_column_name=y_column_name, \n",
    "            y_standard_deviation=False,\n",
    "            dc=datacollectors)\n",
    "\n",
    "    graphicGen.show_plot(\n",
    "        title=title,\n",
    "        x_label=x_label, \n",
    "        y_label=y_label)"
   ]
  },
  {
   "cell_type": "markdown",
   "id": "8e868abe",
   "metadata": {},
   "source": [
    "## Gerando o gráfico da Taxa de Sucesso"
   ]
  },
  {
   "cell_type": "code",
   "execution_count": null,
   "id": "3eadea6d-45b5-4f6a-81d1-a7d8ebd90356",
   "metadata": {},
   "outputs": [],
   "source": [
    "plotGraphic(\n",
    "    dataCollectors_list=datacollectors_list,\n",
    "    intensity_variation=INTENSITY_VARIATION,\n",
    "    bha_nodes=BHA_NODES,\n",
    "    y_column_name=\"Success Tax\",\n",
    "    title=\"Diferença na Taxa de Sucesso vs Intensidade do Ataque\",\n",
    "    x_label='Intensidade',\n",
    "    y_label='Taxa de Sucesso'\n",
    "    )"
   ]
  },
  {
   "cell_type": "markdown",
   "id": "8c058dd6",
   "metadata": {},
   "source": [
    "## Gerando o Gráfico da Taxa de Eprs Usados"
   ]
  },
  {
   "cell_type": "code",
   "execution_count": null,
   "id": "6ba80e16",
   "metadata": {},
   "outputs": [],
   "source": [
    "plotGraphic(\n",
    "    dataCollectors_list=datacollectors_list,\n",
    "    intensity_variation=INTENSITY_VARIATION,\n",
    "    bha_nodes=BHA_NODES,\n",
    "    y_column_name=\"Used Eprs\",\n",
    "    title=\"Eprs Usados vs Intensidade do Ataque\",\n",
    "    x_label='Intensidade',\n",
    "    y_label='Taxa de Eprs Usados'\n",
    ")"
   ]
  }
 ],
 "metadata": {
  "kernelspec": {
   "display_name": ".venv",
   "language": "python",
   "name": "python3"
  },
  "language_info": {
   "codemirror_mode": {
    "name": "ipython",
    "version": 3
   },
   "file_extension": ".py",
   "mimetype": "text/x-python",
   "name": "python",
   "nbconvert_exporter": "python",
   "pygments_lexer": "ipython3",
   "version": "3.10.12"
  }
 },
 "nbformat": 4,
 "nbformat_minor": 5
}
