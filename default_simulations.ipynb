{
 "cells": [
  {
   "cell_type": "markdown",
   "id": "14ce4ec5",
   "metadata": {},
   "source": [
    "## Fazendo import das dependências"
   ]
  },
  {
   "cell_type": "code",
   "execution_count": 1,
   "id": "707821a7",
   "metadata": {},
   "outputs": [],
   "source": [
    "from BHA_functions import asyncSimulations_Linux\n",
    "from BHA_functions import DataCollector\n",
    "from BHA_functions import GraphicGenerator\n",
    "from datetime import datetime"
   ]
  },
  {
   "cell_type": "markdown",
   "id": "8ddaa22a",
   "metadata": {},
   "source": [
    "## Definindo as constantes das simulações"
   ]
  },
  {
   "cell_type": "code",
   "execution_count": 2,
   "id": "5327dc31",
   "metadata": {},
   "outputs": [],
   "source": [
    "PATH = 'Simulations_Data/default_simulations'\n",
    "CORES = 12\n",
    "RUNS_PER_POINT = 1\n",
    "\n",
    "TARGET = (True, False)\n",
    "GRAPHIC_POINTS = 7\n",
    "\n",
    "NETWORK_PROB = 0.8\n",
    "TOPOLOGY = 'Grade'\n",
    "INTENSITY_VARIATION = 0.1\n",
    "BHA_NODES = (1, 3, 5)"
   ]
  },
  {
   "cell_type": "markdown",
   "id": "271af1fc",
   "metadata": {},
   "source": [
    "## Rodando a simulação sem Black Hole"
   ]
  },
  {
   "cell_type": "code",
   "execution_count": null,
   "id": "aa8670b6",
   "metadata": {},
   "outputs": [],
   "source": [
    "intensity = []\n",
    "for c in range(1, GRAPHIC_POINTS+1):\n",
    "    intensity.append(NETWORK_PROB - c*INTENSITY_VARIATION)\n",
    "\n",
    "# Default params\n",
    "simulations_params = {\n",
    "            'runs':RUNS_PER_POINT,\n",
    "            'topology':TOPOLOGY,\n",
    "            'number_nodes':20,\n",
    "            'rows':4,\n",
    "            'columns':3,\n",
    "            'prob_edge_creation':0.1,\n",
    "            'edges_to_attach':3,\n",
    "            'entanglements_replanished':10,\n",
    "            'requests':100,\n",
    "            'attempts_per_request':2,\n",
    "            'network_prob':NETWORK_PROB,\n",
    "            'num_black_holes':0,\n",
    "            'black_hole_prob':intensity[0],\n",
    "            'black_hole_target':TARGET\n",
    "        }\n",
    "\n",
    "# Runing no BHA simulation\n",
    "default_simulation = asyncSimulations_Linux(cores=CORES, **simulations_params)\n",
    "default_simulation.save(file_name=f'{PATH}/Default_Network/default_network')"
   ]
  },
  {
   "cell_type": "markdown",
   "id": "a7a359e3",
   "metadata": {},
   "source": [
    "## Realizando todas as simulações com Black Holes"
   ]
  },
  {
   "cell_type": "code",
   "execution_count": null,
   "id": "41f8e0d7-a488-40cd-ab69-afdce1114b9d",
   "metadata": {},
   "outputs": [],
   "source": [
    "for target in TARGET:\n",
    "    for bha_nodes in BHA_NODES:\n",
    "        for i in range(0, GRAPHIC_POINTS):\n",
    "            start = datetime.now()\n",
    "\n",
    "            # Updating the params\n",
    "            simulations_params['num_black_holes'] = bha_nodes\n",
    "            simulations_params['black_hole_prob'] = intensity[i]\n",
    "            simulations_params['black_hole_target'] = target\n",
    "\n",
    "            # Running simulation\n",
    "            simulations_dc = asyncSimulations_Linux(cores=CORES, **simulations_params)\n",
    "\n",
    "            # Saving CSV file\n",
    "            simulations_dc.save(file_name=f'{PATH}/Target-{target}/{bha_nodes}nodes/point{i}')\n",
    "\n",
    "            # BenchMark\n",
    "            print(f\"As {simulations_params['runs']} simulações com target {target} e com {bha_nodes} atacantes finalizaram no tempo de: {datetime.now()-start}\")\n",
    "            print('-='*50)"
   ]
  },
  {
   "cell_type": "markdown",
   "id": "cb264355",
   "metadata": {},
   "source": [
    "## Coletando os dados diretamente dos CSVs de cada simulação"
   ]
  },
  {
   "cell_type": "code",
   "execution_count": 5,
   "id": "c06cce7a",
   "metadata": {},
   "outputs": [],
   "source": [
    "default_network = DataCollector()\n",
    "default_network.get_DataFrame_csv(f'{PATH}/Default_Network/default_network.csv')\n",
    "\n",
    "datacollectors_list_target_on = []\n",
    "datacollectors_list_target_off = []\n",
    "for target in TARGET:\n",
    "    for bha_nodes in BHA_NODES:\n",
    "        temp_datacollectors = []\n",
    "        for i in range(0, GRAPHIC_POINTS):\n",
    "            temp_dc = DataCollector()\n",
    "            temp_dc.get_DataFrame_csv(f'{PATH}/Target-{target}/{bha_nodes}nodes/point{i}.csv')\n",
    "            temp_datacollectors.append(temp_dc)\n",
    "        if target:\n",
    "            datacollectors_list_target_on.append(tuple(temp_datacollectors))\n",
    "        else:\n",
    "            datacollectors_list_target_off.append(tuple(temp_datacollectors))"
   ]
  },
  {
   "cell_type": "markdown",
   "id": "32069299",
   "metadata": {},
   "source": [
    "## Criando uma função genérica para plotar os gráficos"
   ]
  },
  {
   "cell_type": "code",
   "execution_count": 6,
   "id": "59846943",
   "metadata": {},
   "outputs": [],
   "source": [
    "def plotGraphic(\n",
    "        dataCollectors_list: list[tuple[DataCollector]],\n",
    "        default_diff: DataCollector, \n",
    "        intensity_variation: float,\n",
    "        bha_nodes: tuple,\n",
    "        y_column_name: str, \n",
    "        title: str, \n",
    "        x_label: str, \n",
    "        y_label: str) -> None:\n",
    "    \"\"\"\n",
    "    Will show the simulations graph\n",
    "\n",
    "    Args:\n",
    "        dataCollectors_list (required): List with tuples of DataCollectors\n",
    "        default_diff (required): Pass the network without black holes to compare, if None don't affect the result\n",
    "        intensity_variation (required): Variation of intensity per point\n",
    "        bha_nodes (required): Tuple with number of nodes\n",
    "        y_column_name (required): Name of column data\n",
    "        title (required): Title of graph\n",
    "        x_label (required): X axis label\n",
    "        y_label (required): Y axis label\n",
    "    \"\"\"\n",
    "    \n",
    "    graphicGen = GraphicGenerator()\n",
    "\n",
    "    for pos, datacollectors in enumerate(dataCollectors_list):\n",
    "        graphicGen.add_on_plot(\n",
    "            plot_label=f'{bha_nodes[pos]} nós', \n",
    "            x_column=(0.1, intensity_variation), \n",
    "            y_column_name=y_column_name, \n",
    "            y_standard_deviation=False,\n",
    "            dc=datacollectors,\n",
    "            default_diff=default_diff)\n",
    "\n",
    "    graphicGen.show_plot(\n",
    "        title=title,\n",
    "        x_label=x_label, \n",
    "        y_label=y_label)"
   ]
  },
  {
   "cell_type": "markdown",
   "id": "8e868abe",
   "metadata": {},
   "source": [
    "## Gerando o gráfico da Taxa de Sucesso sem Target"
   ]
  },
  {
   "cell_type": "code",
   "execution_count": null,
   "id": "3eadea6d-45b5-4f6a-81d1-a7d8ebd90356",
   "metadata": {},
   "outputs": [],
   "source": [
    "plotGraphic(\n",
    "    dataCollectors_list=datacollectors_list_target_off,\n",
    "    default_diff=default_network,\n",
    "    intensity_variation=INTENSITY_VARIATION,\n",
    "    bha_nodes=BHA_NODES,\n",
    "    y_column_name=\"Success Tax\",\n",
    "    title=\"Diferença na Taxa de Sucesso vs Intensidade do Ataque (Target off)\",\n",
    "    x_label='Intensidade',\n",
    "    y_label='Diferença na Taxa de Sucesso'\n",
    "    )"
   ]
  },
  {
   "cell_type": "markdown",
   "id": "cf06ecbe",
   "metadata": {},
   "source": [
    "## Gerando o gráfico da Taxa de Sucesso com Target"
   ]
  },
  {
   "cell_type": "code",
   "execution_count": null,
   "id": "0c338844",
   "metadata": {},
   "outputs": [],
   "source": [
    "plotGraphic(\n",
    "    dataCollectors_list=datacollectors_list_target_on,\n",
    "    default_diff=default_network,\n",
    "    intensity_variation=INTENSITY_VARIATION,\n",
    "    bha_nodes=BHA_NODES,\n",
    "    y_column_name=\"Success Tax\",\n",
    "    title=\"Diferença na Taxa de Sucesso vs Intensidade do Ataque (Target on)\",\n",
    "    x_label='Intensidade',\n",
    "    y_label='Diferença na Taxa de Sucesso'\n",
    "    )"
   ]
  },
  {
   "cell_type": "markdown",
   "id": "8c058dd6",
   "metadata": {},
   "source": [
    "## Gerando o Gráfico da Taxa de Eprs Usados sem Target"
   ]
  },
  {
   "cell_type": "code",
   "execution_count": null,
   "id": "6ba80e16",
   "metadata": {},
   "outputs": [],
   "source": [
    "plotGraphic(\n",
    "    dataCollectors_list=datacollectors_list_target_off,\n",
    "    default_diff=default_network,\n",
    "    intensity_variation=INTENSITY_VARIATION,\n",
    "    bha_nodes=BHA_NODES,\n",
    "    y_column_name=\"Used Eprs\",\n",
    "    title=\"Diferença na Taxa de Eprs Usados vs Intensidade do Ataque (Target off)\",\n",
    "    x_label='Intensidade',\n",
    "    y_label='Diferença na Taxa de Eprs Usados'\n",
    ")"
   ]
  },
  {
   "cell_type": "markdown",
   "id": "ab36db9d",
   "metadata": {},
   "source": [
    "## Gerando o Gráfico da Taxa de Eprs Usaddos com Target"
   ]
  },
  {
   "cell_type": "code",
   "execution_count": null,
   "id": "3fe21007",
   "metadata": {},
   "outputs": [],
   "source": [
    "plotGraphic(\n",
    "    dataCollectors_list=datacollectors_list_target_on,\n",
    "    default_diff=default_network,\n",
    "    intensity_variation=INTENSITY_VARIATION,\n",
    "    bha_nodes=BHA_NODES,\n",
    "    y_column_name=\"Used Eprs\",\n",
    "    title=\"Diferença na Taxa de Eprs Usados vs Intensidade do Ataque (Target on)\",\n",
    "    x_label='Intensidade',\n",
    "    y_label='Diferença na Taxa de Eprs Usados'\n",
    ")"
   ]
  }
 ],
 "metadata": {
  "kernelspec": {
   "display_name": ".venv",
   "language": "python",
   "name": "python3"
  },
  "language_info": {
   "codemirror_mode": {
    "name": "ipython",
    "version": 3
   },
   "file_extension": ".py",
   "mimetype": "text/x-python",
   "name": "python",
   "nbconvert_exporter": "python",
   "pygments_lexer": "ipython3",
   "version": "3.10.12"
  }
 },
 "nbformat": 4,
 "nbformat_minor": 5
}
